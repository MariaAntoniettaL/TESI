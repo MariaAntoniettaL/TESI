{
  "cells": [
    {
      "cell_type": "markdown",
      "metadata": {
        "id": "6GJd7iRrwh7e"
      },
      "source": [
        "ADULT DATASET : **RANDOM FOREST**\n",
        "\n",
        "To see the preprocessing in detail open \"0_Adult_Preprocessing_all_models.ipynb\""
      ]
    },
    {
      "cell_type": "code",
      "execution_count": 78,
      "metadata": {
        "id": "oTMTBqdqw4cQ"
      },
      "outputs": [],
      "source": [
        "from sklearn.model_selection import train_test_split\n",
        "from sklearn.preprocessing import LabelEncoder\n",
        "from sklearn.metrics import classification_report, accuracy_score, confusion_matrix, ConfusionMatrixDisplay\n",
        "\n",
        "from sklearn.linear_model import LogisticRegression\n",
        "from sklearn.tree import DecisionTreeClassifier\n",
        "from sklearn.ensemble import RandomForestClassifier, GradientBoostingClassifier\n",
        "from sklearn.svm import SVC\n",
        "from sklearn.neighbors import KNeighborsClassifier\n",
        "from sklearn.model_selection import GridSearchCV\n",
        "from sklearn.naive_bayes import GaussianNB\n",
        "\n",
        "\n",
        "\n",
        "import pandas as pd\n",
        "import numpy as np\n",
        "import seaborn as sns\n",
        "import matplotlib.pyplot as plt"
      ]
    },
    {
      "cell_type": "code",
      "execution_count": 79,
      "metadata": {
        "id": "bI_zYjK2vCmg"
      },
      "outputs": [],
      "source": [
        "#!unzip adult.zip"
      ]
    },
    {
      "cell_type": "code",
      "execution_count": 80,
      "metadata": {
        "colab": {
          "base_uri": "https://localhost:8080/"
        },
        "id": "uFF4V4qDwhKR",
        "outputId": "51d97419-e605-4628-d9ea-6dacbc3158f8"
      },
      "outputs": [
        {
          "name": "stdout",
          "output_type": "stream",
          "text": [
            "   age          workclass  fnlwgt   education  education-num  \\\n",
            "0   39          State-gov   77516   Bachelors             13   \n",
            "1   50   Self-emp-not-inc   83311   Bachelors             13   \n",
            "2   38            Private  215646     HS-grad              9   \n",
            "3   53            Private  234721        11th              7   \n",
            "4   28            Private  338409   Bachelors             13   \n",
            "\n",
            "        marital-status          occupation    relationship    race      sex  \\\n",
            "0        Never-married        Adm-clerical   Not-in-family   White     Male   \n",
            "1   Married-civ-spouse     Exec-managerial         Husband   White     Male   \n",
            "2             Divorced   Handlers-cleaners   Not-in-family   White     Male   \n",
            "3   Married-civ-spouse   Handlers-cleaners         Husband   Black     Male   \n",
            "4   Married-civ-spouse      Prof-specialty            Wife   Black   Female   \n",
            "\n",
            "   capital-gain  capital-loss  hours-per-week  native-country  income  \n",
            "0          2174             0              40   United-States   <=50K  \n",
            "1             0             0              13   United-States   <=50K  \n",
            "2             0             0              40   United-States   <=50K  \n",
            "3             0             0              40   United-States   <=50K  \n",
            "4             0             0              40            Cuba   <=50K  \n"
          ]
        }
      ],
      "source": [
        "col_names = ['age', 'workclass', 'fnlwgt', 'education', 'education-num',\n",
        "                'marital-status', 'occupation', 'relationship', 'race', 'sex',\n",
        "                'capital-gain', 'capital-loss', 'hours-per-week', 'native-country', 'income']\n",
        "\n",
        "df = pd.read_csv(\"adult.data\", header = None, names = col_names)\n",
        "print(df.head())"
      ]
    },
    {
      "cell_type": "code",
      "execution_count": 81,
      "metadata": {
        "id": "8YbmxhHl3R1v"
      },
      "outputs": [],
      "source": [
        "#income == 1 if income >= 50K , income == = if income < 50K\n",
        "def income_map(income):\n",
        "    if isinstance(income, str):  # Controlla se il valore è una stringa\n",
        "        income = income.strip()  # Rimuove eventuali spazi bianchi prima e dopo il valore\n",
        "        if income == \">50K\":\n",
        "            return 1\n",
        "    return 0\n",
        "\n",
        "df[\"income\"] = df[\"income\"].map(income_map)\n"
      ]
    },
    {
      "cell_type": "code",
      "execution_count": 82,
      "metadata": {
        "colab": {
          "base_uri": "https://localhost:8080/"
        },
        "id": "qliAmFSyKcBt",
        "outputId": "33d801c8-a4ae-4d15-c314-c305d924c013"
      },
      "outputs": [
        {
          "data": {
            "text/plain": [
              "income\n",
              "0    24720\n",
              "1     7841\n",
              "Name: count, dtype: int64"
            ]
          },
          "execution_count": 82,
          "metadata": {},
          "output_type": "execute_result"
        }
      ],
      "source": [
        "#check if the dataset is balanced\n",
        "df.income.value_counts()"
      ]
    },
    {
      "cell_type": "code",
      "execution_count": 83,
      "metadata": {
        "colab": {
          "base_uri": "https://localhost:8080/"
        },
        "id": "7UliN-wvLMTB",
        "outputId": "54c3d111-5e9d-4fc9-8c68-a7668d940a31"
      },
      "outputs": [
        {
          "name": "stdout",
          "output_type": "stream",
          "text": [
            "duplicate rows: 47\n"
          ]
        }
      ],
      "source": [
        "#check for duplicate rows\n",
        "duplicates = df.duplicated(keep = False)\n",
        "print(f\"duplicate rows: {duplicates.sum()}\")"
      ]
    },
    {
      "cell_type": "code",
      "execution_count": 84,
      "metadata": {
        "colab": {
          "base_uri": "https://localhost:8080/"
        },
        "id": "cq06ajhHLMQK",
        "outputId": "ba60cf9a-e31a-4585-e5d4-1b494d224a58"
      },
      "outputs": [
        {
          "name": "stdout",
          "output_type": "stream",
          "text": [
            "duplicate rows: 0\n"
          ]
        }
      ],
      "source": [
        "#remove\n",
        "df.drop_duplicates(inplace = True)\n",
        "duplicates = df.duplicated(keep = False)\n",
        "print(f\"duplicate rows: {duplicates.sum()}\")"
      ]
    },
    {
      "cell_type": "code",
      "execution_count": 85,
      "metadata": {
        "id": "nUc929jMLMNj"
      },
      "outputs": [],
      "source": [
        "#split\n",
        "df_train, df_test = train_test_split(df, test_size = 0.2, shuffle = True, random_state=42, stratify = df[\"income\"])"
      ]
    },
    {
      "cell_type": "code",
      "execution_count": 86,
      "metadata": {
        "colab": {
          "base_uri": "https://localhost:8080/"
        },
        "id": "31bhagchLMKu",
        "outputId": "4a3da141-a778-4a62-c3c6-38c91f4787dd"
      },
      "outputs": [],
      "source": [
        "#null values in train\n",
        "#print(\"Null Train\")\n",
        "#print(df_train.isna().sum())"
      ]
    },
    {
      "cell_type": "code",
      "execution_count": 87,
      "metadata": {
        "colab": {
          "base_uri": "https://localhost:8080/"
        },
        "id": "yoQ88N5vKbmI",
        "outputId": "aabedcf8-0f59-4544-8a6e-311dec87f033"
      },
      "outputs": [],
      "source": [
        "#null values in test\n",
        "#print(\"Null Test\")\n",
        "#print(df_test.isna().sum())"
      ]
    },
    {
      "cell_type": "markdown",
      "metadata": {
        "id": "PDqj2PCgNRYe"
      },
      "source": [
        "Let's see what values ​​each column contains, to understand how and whether to discretize, normalize or encode"
      ]
    },
    {
      "cell_type": "code",
      "execution_count": 88,
      "metadata": {
        "colab": {
          "base_uri": "https://localhost:8080/"
        },
        "id": "-CW0vzu8NovA",
        "outputId": "07ce9497-3c45-4ba1-b170-83113d27f602"
      },
      "outputs": [
        {
          "data": {
            "text/plain": [
              "'for column in df.columns:\\n    unique_values = set(df[column])\\n    print(f\"values in column \\'{column}\\': {unique_values}\")\\n'"
            ]
          },
          "execution_count": 88,
          "metadata": {},
          "output_type": "execute_result"
        }
      ],
      "source": [
        "'''for column in df.columns:\n",
        "    unique_values = set(df[column])\n",
        "    print(f\"values in column '{column}': {unique_values}\")\n",
        "'''"
      ]
    },
    {
      "cell_type": "markdown",
      "metadata": {
        "id": "OTybfa44L2B6"
      },
      "source": [
        "AGE , maybe better do nothing"
      ]
    },
    {
      "cell_type": "code",
      "execution_count": 89,
      "metadata": {
        "colab": {
          "base_uri": "https://localhost:8080/"
        },
        "id": "UNuNEo6ZQv51",
        "outputId": "5845945f-46fd-44ee-ec07-b6429b157e83"
      },
      "outputs": [
        {
          "name": "stdout",
          "output_type": "stream",
          "text": [
            "{17, 18, 19, 20, 21, 22, 23, 24, 25, 26, 27, 28, 29, 30, 31, 32, 33, 34, 35, 36, 37, 38, 39, 40, 41, 42, 43, 44, 45, 46, 47, 48, 49, 50, 51, 52, 53, 54, 55, 56, 57, 58, 59, 60, 61, 62, 63, 64, 65, 66, 67, 68, 69, 70, 71, 72, 73, 74, 75, 76, 77, 78, 79, 80, 81, 82, 83, 84, 85, 86, 87, 88, 90}\n"
          ]
        }
      ],
      "source": [
        "print((set(df_train[\"age\"])))"
      ]
    },
    {
      "cell_type": "markdown",
      "metadata": {
        "id": "dAtKKXDrL9zU"
      },
      "source": [
        "WORKCLASS"
      ]
    },
    {
      "cell_type": "code",
      "execution_count": 90,
      "metadata": {
        "colab": {
          "base_uri": "https://localhost:8080/"
        },
        "id": "aIaq3WzFZZRZ",
        "outputId": "b5fe4111-b5bb-4c53-8d6d-2efc00cc299c"
      },
      "outputs": [
        {
          "name": "stdout",
          "output_type": "stream",
          "text": [
            "{' Local-gov', ' Self-emp-inc', ' Private', ' Self-emp-not-inc', ' State-gov', ' Never-worked', ' Without-pay', ' Federal-gov', ' ?'}\n"
          ]
        }
      ],
      "source": [
        "print((set(df[\"workclass\"])))\n"
      ]
    },
    {
      "cell_type": "code",
      "execution_count": 91,
      "metadata": {
        "id": "RmtRdRFTb9VF"
      },
      "outputs": [],
      "source": [
        "# Rename \"?\" con \"Unknown\" in \"workclass\"\n",
        "df_train['workclass'] = df_train['workclass'].replace(' ?', ' Unknown')\n",
        "df_test['workclass'] = df_test['workclass'].replace(' ?', ' Unknown')"
      ]
    },
    {
      "cell_type": "code",
      "execution_count": 92,
      "metadata": {
        "id": "bezd6Pqsb9X8"
      },
      "outputs": [],
      "source": [
        "# Combine \"Federal-gov\", \"State-gov\" e \"Local-gov\" e rename in \"Government\"\n",
        "df_train.loc[df_train[\"workclass\"].isin([\" Federal-gov\", \" State-gov\", \" Local-gov\"]), \"workclass\"] = \" Government\"\n",
        "df_test.loc[df_test[\"workclass\"].isin([\" Federal-gov\", \" State-gov\", \" Local-gov\"]), \"workclass\"] = \" Government\"\n",
        "\n",
        "# Combine \"Self-emp-inc\", \"Self-emp-not-inc\" e rename in \"Self-emp\"\n",
        "df_train.loc[df_train[\"workclass\"].isin([\" Self-emp-inc\", \" Self-emp-not-inc\"]), \"workclass\"] = \" Self-emp\"\n",
        "df_test.loc[df_test[\"workclass\"].isin([\" Self-emp-inc\", \" Self-emp-not-inc\"]), \"workclass\"] = \" Self-emp\""
      ]
    },
    {
      "cell_type": "code",
      "execution_count": 93,
      "metadata": {
        "colab": {
          "base_uri": "https://localhost:8080/"
        },
        "id": "b7a61k-TflS5",
        "outputId": "4497e727-d1cb-478c-beff-68735eec771f"
      },
      "outputs": [
        {
          "name": "stdout",
          "output_type": "stream",
          "text": [
            "{' Government', ' Self-emp', ' Private', ' Never-worked', ' Unknown', ' Without-pay'}\n"
          ]
        }
      ],
      "source": [
        "print((set(df_train[\"workclass\"])))"
      ]
    },
    {
      "cell_type": "markdown",
      "metadata": {
        "id": "Jr9sHiNQMBRe"
      },
      "source": [
        "FNLWGH rescale"
      ]
    },
    {
      "cell_type": "code",
      "execution_count": 94,
      "metadata": {
        "id": "qk0LtPfMLzHu"
      },
      "outputs": [],
      "source": [
        "from sklearn.preprocessing import MinMaxScaler\n",
        "minmax_s = MinMaxScaler()\n",
        "minmax_s.fit(df_train[['fnlwgt']])\n",
        "df_train['fnlwgt'] = minmax_s.transform(df_train[['fnlwgt']])\n",
        "df_test['fnlwgt'] = minmax_s.transform(df_test[['fnlwgt']])"
      ]
    },
    {
      "cell_type": "markdown",
      "metadata": {
        "id": "pSO9AEn3N58h"
      },
      "source": [
        "EDUCATION combination of features"
      ]
    },
    {
      "cell_type": "code",
      "execution_count": 95,
      "metadata": {
        "id": "8lY91LRxLy92"
      },
      "outputs": [],
      "source": [
        "list1 = ['Preschool', '1st-4th', '5th-6th', '7th-8th', '9th', '10th', '11th', 'HS-grad', 'Some-college']\n",
        "df_train['education'] = df_train['education'].str.strip()\n",
        "df_train.loc[df_train[\"education\"].isin(list1), \"education\"] = \"Non Graduated\"\n",
        "\n",
        "df_test['education'] = df_test['education'].str.strip()\n",
        "df_test.loc[df_test[\"education\"].isin(list1), \"education\"] = \"Non Graduated\"\n",
        "\n",
        "\n",
        "list2 = [\"Assoc-voc\", \"Assoc-acdm\", \"Bachelors\"]\n",
        "df_train['education'] = df_train['education'].str.strip()\n",
        "df_train.loc[df_train[\"education\"].isin(list2), \"education\"] = \"Bachelor's Degree\"\n",
        "\n",
        "df_test['education'] = df_test['education'].str.strip()\n",
        "df_test.loc[df_test[\"education\"].isin(list2), \"education\"] = \"Bachelor's Degree\"\n",
        "\n",
        "\n",
        "list3 = [\"Masters\", \"Prof-school\"]\n",
        "df_train['education'] = df_train['education'].str.strip()\n",
        "df_train.loc[df_train[\"education\"].isin(list3), \"education\"] = \"Master's Degree\"\n",
        "\n",
        "df_test['education'] = df_test['education'].str.strip()\n",
        "df_test.loc[df_test[\"education\"].isin(list3), \"education\"] = \"Master's Degree\"\n",
        "\n",
        "\n",
        "list4 = [\"Doctorate\"]\n",
        "df_train['education'] = df_train['education'].str.strip()\n",
        "df_train.loc[df_train[\"education\"].isin(list4), \"education\"] = \"Doctorate Degree\"\n",
        "\n",
        "df_test['education'] = df_test['education'].str.strip()\n",
        "df_test.loc[df_test[\"education\"].isin(list4), \"education\"] = \"Doctorate Degree\""
      ]
    },
    {
      "cell_type": "code",
      "execution_count": 96,
      "metadata": {
        "id": "ZDYGqBRaOEl_"
      },
      "outputs": [],
      "source": [
        "#to fix a problem\n",
        "list5 = [\"12th\"]\n",
        "df_train['education'] = df_train['education'].str.strip()\n",
        "df_train.loc[df_train[\"education\"].isin(list5), \"education\"] = \"Non Graduated\"\n",
        "\n",
        "df_test['education'] = df_test['education'].str.strip()\n",
        "df_test.loc[df_test[\"education\"].isin(list5), \"education\"] = \"Non Graduated\"\n",
        "\n"
      ]
    },
    {
      "cell_type": "code",
      "execution_count": 97,
      "metadata": {
        "colab": {
          "base_uri": "https://localhost:8080/"
        },
        "id": "gSM4y0rIOEjI",
        "outputId": "32e16989-240f-4279-b4a4-2f2a829c5998"
      },
      "outputs": [
        {
          "name": "stdout",
          "output_type": "stream",
          "text": [
            "{\"Bachelor's Degree\", 'Non Graduated', \"Master's Degree\", 'Doctorate Degree'}\n"
          ]
        }
      ],
      "source": [
        "print((set(df_train[\"education\"])))"
      ]
    },
    {
      "cell_type": "code",
      "execution_count": 98,
      "metadata": {
        "colab": {
          "base_uri": "https://localhost:8080/"
        },
        "id": "BH1oRqWEOHVz",
        "outputId": "a62eca58-3f5d-4a97-f2ea-5b85d58e301b"
      },
      "outputs": [
        {
          "name": "stdout",
          "output_type": "stream",
          "text": [
            "{\"Bachelor's Degree\", 'Non Graduated', \"Master's Degree\", 'Doctorate Degree'}\n"
          ]
        }
      ],
      "source": [
        "print((set(df_test[\"education\"])))"
      ]
    },
    {
      "cell_type": "markdown",
      "metadata": {
        "id": "IObI5NG2OW2g"
      },
      "source": [
        "EDUCATION NUM, I can work on, but maybe I will drop this column beacuse I think that is highly correlated with education"
      ]
    },
    {
      "cell_type": "code",
      "execution_count": 99,
      "metadata": {
        "colab": {
          "base_uri": "https://localhost:8080/"
        },
        "id": "2u0x3FvpOl5N",
        "outputId": "7d67584b-8a60-4524-b607-c6851e6e977e"
      },
      "outputs": [
        {
          "name": "stdout",
          "output_type": "stream",
          "text": [
            "{1, 2, 3, 4, 5, 6, 7, 8, 9, 10, 11, 12, 13, 14, 15, 16}\n"
          ]
        }
      ],
      "source": [
        "print((set(df_test[\"education-num\"])))"
      ]
    },
    {
      "cell_type": "markdown",
      "metadata": {
        "id": "MUKVitWwQQ2u"
      },
      "source": [
        "MARITAL STATUS\n",
        "we will have: ' Never-married', Married = ' Married-spouse-absent', ' Married-civ-spouse', ' Married-AF-spouse', ' Separated', ' Divorced' and ' Widowed'"
      ]
    },
    {
      "cell_type": "code",
      "execution_count": 100,
      "metadata": {
        "id": "jitAhQGWQRfG"
      },
      "outputs": [],
      "source": [
        "# Combine ' Married-spouse-absent', ' Married-civ-spouse', ' Married-AF-spouse' e rename in \"Married\"\n",
        "df_train.loc[df_train[\"marital-status\"].isin([' Married-spouse-absent', ' Married-civ-spouse', ' Married-AF-spouse']), \"marital-status\"] = \" Married\"\n",
        "df_test.loc[df_test[\"marital-status\"].isin([' Married-spouse-absent', ' Married-civ-spouse', ' Married-AF-spouse']), \"marital-status\"] = \" Married\"\n",
        "\n"
      ]
    },
    {
      "cell_type": "code",
      "execution_count": 101,
      "metadata": {
        "colab": {
          "base_uri": "https://localhost:8080/"
        },
        "id": "0BBbEfwAYo9B",
        "outputId": "5b365e6c-e843-492a-810d-4ab37b85ebd4"
      },
      "outputs": [
        {
          "name": "stdout",
          "output_type": "stream",
          "text": [
            "{' Married', ' Separated', ' Never-married', ' Divorced', ' Widowed'}\n"
          ]
        }
      ],
      "source": [
        "print((set(df_test[\"marital-status\"])))"
      ]
    },
    {
      "cell_type": "markdown",
      "metadata": {
        "id": "ccGZCrA4YvkG"
      },
      "source": [
        "OCCUPATION\n",
        "I suppose that is highly correlated with workclass, so I combine in something similar to workclass and i will check if it is really high correlated"
      ]
    },
    {
      "cell_type": "code",
      "execution_count": 102,
      "metadata": {
        "colab": {
          "base_uri": "https://localhost:8080/"
        },
        "id": "r-kBd0jOZE7b",
        "outputId": "20367851-01be-44d5-9967-36991ee38546"
      },
      "outputs": [
        {
          "name": "stdout",
          "output_type": "stream",
          "text": [
            "{' Transport-moving', ' Tech-support', ' Protective-serv', ' Priv-house-serv', ' Exec-managerial', ' Handlers-cleaners', ' Other-service', ' Adm-clerical', ' Sales', ' Prof-specialty', ' Machine-op-inspct', ' Armed-Forces', ' Farming-fishing', ' ?', ' Craft-repair'}\n"
          ]
        }
      ],
      "source": [
        "print((set(df_test[\"occupation\"])))"
      ]
    },
    {
      "cell_type": "code",
      "execution_count": 103,
      "metadata": {
        "id": "Kq7fZ1FeZE5L"
      },
      "outputs": [],
      "source": [
        "# Rename \"?\" con \"Unknown\" in \"occupation\"\n",
        "df_train['occupation'] = df_train['occupation'].replace(' ?', ' Unknown')\n",
        "df_test['occupation'] = df_test['occupation'].replace(' ?', ' Unknown')"
      ]
    },
    {
      "cell_type": "code",
      "execution_count": 104,
      "metadata": {
        "id": "_iqEzBnFZE1s"
      },
      "outputs": [],
      "source": [
        "# Government-occ\n",
        "list1 = ['Armed-Forces', 'Protective-serv', 'Adm-clerical', 'Transport-moving']\n",
        "df_train['occupation'] = df_train['occupation'].str.strip()\n",
        "df_train.loc[df_train[\"occupation\"].isin(list1), \"occupation\"] = \" Government-occ\"\n",
        "df_test['occupation'] = df_test['occupation'].str.strip()\n",
        "df_test.loc[df_test[\"occupation\"].isin(list1), \"occupation\"] = \" Government-occ\"\n",
        "#Private-occ\n",
        "list2 = ['Exec-managerial', 'Priv-house-serv', 'Handlers-cleaners', 'Sales' ]\n",
        "df_train['occupation'] = df_train['occupation'].str.strip()\n",
        "df_train.loc[df_train[\"occupation\"].isin(list2), \"occupation\"] = \" Private-occ\"\n",
        "df_test['occupation'] = df_test['occupation'].str.strip()\n",
        "df_test.loc[df_test[\"occupation\"].isin(list2), \"occupation\"] = \" Private-occ\"\n",
        "#Self-emp-occ\n",
        "list3 = ['Farming-fishing', 'Machine-op-inspct', 'Tech-support', 'Craft-repair' ]\n",
        "df_train['occupation'] = df_train['occupation'].str.strip()\n",
        "df_train.loc[df_train[\"occupation\"].isin(list3), \"occupation\"] = \" Self-emp-occ\"\n",
        "df_test['occupation'] = df_test['occupation'].str.strip()\n",
        "df_test.loc[df_test[\"occupation\"].isin(list3), \"occupation\"] = \" Self-emp-occ\""
      ]
    },
    {
      "cell_type": "code",
      "execution_count": 105,
      "metadata": {
        "colab": {
          "base_uri": "https://localhost:8080/"
        },
        "id": "8cDDME6TZEyn",
        "outputId": "38714639-c3a2-4a56-f365-bbd4b0209bb4"
      },
      "outputs": [
        {
          "name": "stdout",
          "output_type": "stream",
          "text": [
            "{'Unknown', 'Other-service', 'Government-occ', ' Self-emp-occ', 'Prof-specialty', 'Private-occ'}\n"
          ]
        }
      ],
      "source": [
        "print((set(df_test[\"occupation\"])))"
      ]
    },
    {
      "cell_type": "markdown",
      "metadata": {
        "id": "TgfjRX4E8qIC"
      },
      "source": [
        "RELATIONSHIP\n",
        "I suppose that it could be correlated with marital status"
      ]
    },
    {
      "cell_type": "code",
      "execution_count": 106,
      "metadata": {
        "colab": {
          "base_uri": "https://localhost:8080/"
        },
        "id": "UKABy0i483p4",
        "outputId": "1cd015f8-1bc7-428f-e239-c34d4825a7a3"
      },
      "outputs": [
        {
          "name": "stdout",
          "output_type": "stream",
          "text": [
            "{' Not-in-family', ' Wife', ' Own-child', ' Other-relative', ' Husband', ' Unmarried'}\n"
          ]
        }
      ],
      "source": [
        "print((set(df_test['relationship'])))"
      ]
    },
    {
      "cell_type": "markdown",
      "metadata": {
        "id": "cPK6LbYz9fH-"
      },
      "source": [
        "RACE"
      ]
    },
    {
      "cell_type": "code",
      "execution_count": 107,
      "metadata": {
        "colab": {
          "base_uri": "https://localhost:8080/"
        },
        "id": "zyxsLzSW83nR",
        "outputId": "8e3c9d7b-2863-4465-c998-c95fd4a4d910"
      },
      "outputs": [
        {
          "name": "stdout",
          "output_type": "stream",
          "text": [
            "{' White', ' Amer-Indian-Eskimo', ' Black', ' Asian-Pac-Islander', ' Other'}\n"
          ]
        }
      ],
      "source": [
        "print((set(df_test['race'])))"
      ]
    },
    {
      "cell_type": "markdown",
      "metadata": {
        "id": "_Prysvqu90tP"
      },
      "source": [
        "SEX"
      ]
    },
    {
      "cell_type": "code",
      "execution_count": 108,
      "metadata": {
        "colab": {
          "base_uri": "https://localhost:8080/"
        },
        "id": "jYrM3pwI83kq",
        "outputId": "9a3fb8d9-e1db-4012-fa10-b707a72a3c80"
      },
      "outputs": [
        {
          "name": "stdout",
          "output_type": "stream",
          "text": [
            "{' Female', ' Male'}\n"
          ]
        }
      ],
      "source": [
        "print((set(df_test['sex'])))"
      ]
    },
    {
      "cell_type": "markdown",
      "metadata": {
        "id": "Sl5bpTHH9--g"
      },
      "source": [
        "CAPITAL GAIN rescale"
      ]
    },
    {
      "cell_type": "code",
      "execution_count": 109,
      "metadata": {
        "colab": {
          "base_uri": "https://localhost:8080/"
        },
        "id": "8yvFuRsk83iF",
        "outputId": "65238035-a4c3-4129-d3f8-df5fdcb0ef33"
      },
      "outputs": [
        {
          "name": "stdout",
          "output_type": "stream",
          "text": [
            "{0, 2050, 4101, 7688, 14344, 2062, 2580, 3103, 1055, 25124, 2597, 4650, 18481, 2105, 5178, 3137, 2635, 4687, 594, 20051, 5721, 3674, 2653, 2174, 1151, 2176, 7298, 25236, 99999, 9386, 15024, 4787, 27828, 2228, 6849, 3781, 13550, 2290, 3325, 4865, 14084, 7430, 2829, 6418, 10520, 4386, 1831, 2346, 3887, 2354, 1848, 4416, 3908, 2885, 10566, 4934, 5455, 3411, 2387, 2907, 6497, 3942, 2407, 10605, 2414, 6514, 2936, 1409, 3464, 3471, 401, 914, 2964, 5013, 4508, 11678, 2463, 8614, 5556, 1471, 6097, 991, 4064, 1506, 2036}\n"
          ]
        }
      ],
      "source": [
        "print((set(df_test['capital-gain'])))"
      ]
    },
    {
      "cell_type": "code",
      "execution_count": 110,
      "metadata": {
        "id": "FdxGDFPe83fu"
      },
      "outputs": [],
      "source": [
        "from sklearn.preprocessing import MinMaxScaler\n",
        "minmax_s = MinMaxScaler()\n",
        "minmax_s.fit(df_train[['capital-gain']])\n",
        "df_train['capital-gain'] = minmax_s.transform(df_train[['capital-gain']])\n",
        "df_test['capital-gain'] = minmax_s.transform(df_test[['capital-gain']])"
      ]
    },
    {
      "cell_type": "markdown",
      "metadata": {
        "id": "gU9uOPaJ_MTd"
      },
      "source": [
        "CAPITAL LOSS as before"
      ]
    },
    {
      "cell_type": "code",
      "execution_count": 111,
      "metadata": {
        "colab": {
          "base_uri": "https://localhost:8080/"
        },
        "id": "wOp-qY9WAZ1d",
        "outputId": "6eceb125-b326-474e-cd29-a4b369b0e0ce"
      },
      "outputs": [
        {
          "name": "stdout",
          "output_type": "stream",
          "text": [
            "{0, 1408, 2051, 2179, 4356, 1669, 1672, 2824, 2444, 1564, 2205, 2206, 1825, 419, 2339, 1573, 2467, 810, 1579, 2603, 1590, 1719, 1848, 1977, 1974, 1594, 1340, 1980, 1721, 1726, 3770, 2238, 1602, 1092, 2377, 1740, 1485, 1741, 2001, 2258, 1617, 1876, 213, 2002, 2129, 2392, 1628, 1887, 1504, 1762, 1380, 2149, 1902, 2415, 880, 625, 1138, 2547, 1651, 2042, 2174, 2559}\n"
          ]
        }
      ],
      "source": [
        "print((set(df_test['capital-loss'])))"
      ]
    },
    {
      "cell_type": "code",
      "execution_count": 112,
      "metadata": {
        "id": "9JABWFu5_PKg"
      },
      "outputs": [],
      "source": [
        "from sklearn.preprocessing import MinMaxScaler\n",
        "minmax_s = MinMaxScaler()\n",
        "minmax_s.fit(df_train[['capital-loss']])\n",
        "df_train['capital-loss'] = minmax_s.transform(df_train[['capital-loss']])\n",
        "df_test['capital-loss'] = minmax_s.transform(df_test[['capital-loss']])"
      ]
    },
    {
      "cell_type": "markdown",
      "metadata": {
        "id": "g2ru6VpTQQtG"
      },
      "source": [
        "HOURS PER WEEK nothing"
      ]
    },
    {
      "cell_type": "code",
      "execution_count": 113,
      "metadata": {
        "colab": {
          "base_uri": "https://localhost:8080/"
        },
        "id": "nBx45MuM2Ip5",
        "outputId": "2bd95b29-2181-4846-9a36-e115d5037368"
      },
      "outputs": [
        {
          "name": "stdout",
          "output_type": "stream",
          "text": [
            "{1, 2, 3, 4, 5, 6, 7, 8, 9, 10, 11, 12, 13, 14, 15, 16, 17, 18, 19, 20, 21, 22, 23, 24, 25, 26, 27, 28, 29, 30, 31, 32, 33, 34, 35, 36, 37, 38, 39, 40, 41, 42, 43, 44, 45, 46, 47, 48, 49, 50, 51, 52, 53, 54, 55, 56, 57, 58, 59, 60, 61, 62, 64, 65, 66, 67, 68, 70, 72, 75, 76, 77, 78, 80, 84, 85, 90, 96, 98, 99}\n"
          ]
        }
      ],
      "source": [
        "print((set(df_test['hours-per-week'])))"
      ]
    },
    {
      "cell_type": "markdown",
      "metadata": {
        "id": "9yuELfojAHHf"
      },
      "source": [
        "NATIVE COUNTRY\n",
        "I think could be highly correlated with race , so I make some transformations"
      ]
    },
    {
      "cell_type": "code",
      "execution_count": 114,
      "metadata": {
        "colab": {
          "base_uri": "https://localhost:8080/"
        },
        "id": "YbkFdkSwAWuu",
        "outputId": "3b886e2f-970b-43af-c3f3-14a1a9170ffc"
      },
      "outputs": [
        {
          "name": "stdout",
          "output_type": "stream",
          "text": [
            "{' Dominican-Republic', ' Cambodia', ' South', ' Guatemala', ' Ecuador', ' Cuba', ' Iran', ' Germany', ' Columbia', ' Mexico', ' India', ' England', ' Peru', ' United-States', ' Italy', ' Hong', ' Japan', ' Outlying-US(Guam-USVI-etc)', ' Honduras', ' Scotland', ' Vietnam', ' Laos', ' Jamaica', ' Trinadad&Tobago', ' Philippines', ' Nicaragua', ' Thailand', ' Puerto-Rico', ' China', ' Taiwan', ' Yugoslavia', ' Canada', ' Poland', ' Portugal', ' Hungary', ' France', ' El-Salvador', ' Haiti', ' Ireland', ' ?', ' Greece'}\n"
          ]
        }
      ],
      "source": [
        "print((set(df_test['native-country'])))"
      ]
    },
    {
      "cell_type": "code",
      "execution_count": 115,
      "metadata": {
        "id": "3E2646WDAo_M"
      },
      "outputs": [],
      "source": [
        "# Rename \"?\" con \"Unknown\" in \"native-country\"\n",
        "df_train['native-country'] = df_train['native-country'].replace(' ?', ' Unknown')\n",
        "df_test['native-country'] = df_test['native-country'].replace(' ?', ' Unknown')"
      ]
    },
    {
      "cell_type": "code",
      "execution_count": 116,
      "metadata": {
        "id": "Ds0jp3lwA3GF"
      },
      "outputs": [],
      "source": [
        "#caucasian/white\n",
        "list1 = ['Germany', 'England', 'Scotland', 'France', 'Italy', 'Ireland', 'Greece', 'Poland', 'Portugal', 'Yugoslavia', 'Hungary']\n",
        "df_train['native-country'] = df_train['native-country'].str.strip()\n",
        "df_train.loc[df_train[\"native-country\"].isin(list1), \"native-country\"] = \" Caucasian-White\"\n",
        "df_test['native-country'] = df_test['native-country'].str.strip()\n",
        "df_test.loc[df_test[\"native-country\"].isin(list1), \"native-country\"] = \" Caucasian-White\"\n",
        "\n",
        "#african american/black\n",
        "list2 = ['United-States', 'Jamaica', 'Haiti', 'Trinadad&Tobago']\n",
        "df_train['native-country'] = df_train['native-country'].str.strip()\n",
        "df_train.loc[df_train[\"native-country\"].isin(list2), \"native-country\"] = \" African-American-Black\"\n",
        "df_test['native-country'] = df_test['native-country'].str.strip()\n",
        "df_test.loc[df_test[\"native-country\"].isin(list2), \"native-country\"] = \" African-American-Black\"\n",
        "\n",
        "#latino/hispanic\n",
        "list3 = ['Peru', 'Mexico', 'Puerto-Rico', 'Guatemala', 'Honduras', 'El-Salvador', 'Nicaragua', 'Cuba', 'Dominican-Republic', 'Columbia', 'Ecuador']\n",
        "df_train['native-country'] = df_train['native-country'].str.strip()\n",
        "df_train.loc[df_train[\"native-country\"].isin(list3), \"native-country\"] = \" Latino-Hispanic\"\n",
        "df_test['native-country'] = df_test['native-country'].str.strip()\n",
        "df_test.loc[df_test[\"native-country\"].isin(list3), \"native-country\"] = \" Latino-Hispanic\"\n",
        "\n",
        "#Asian\n",
        "list4 = ['Thailand', 'Philippines', 'Vietnam', 'China', 'Japan', 'India', 'Taiwan', 'Cambodia', 'Laos' ]\n",
        "df_train['native-country'] = df_train['native-country'].str.strip()\n",
        "df_train.loc[df_train[\"native-country\"].isin(list4), \"native-country\"] = \" Asian\"\n",
        "df_test['native-country'] = df_test['native-country'].str.strip()\n",
        "df_test.loc[df_test[\"native-country\"].isin(list4), \"native-country\"] = \" Asian\"\n",
        "\n",
        "#Other\n",
        "list5 = ['Outlying-US(Guam-USVI-etc)', 'Iran', 'Unknown', 'Canada', 'South', 'Hong', 'Israel', 'Lebanon', 'Holand-Netherlands', 'Romania', 'Russia', 'Switzerland', 'Scotland'  ]\n",
        "df_train['native-country'] = df_train['native-country'].str.strip()\n",
        "df_train.loc[df_train[\"native-country\"].isin(list5), \"native-country\"] = \" Other\"\n",
        "df_test['native-country'] = df_test['native-country'].str.strip()\n",
        "df_test.loc[df_test[\"native-country\"].isin(list5), \"native-country\"] = \" Other\"\n"
      ]
    },
    {
      "cell_type": "code",
      "execution_count": 117,
      "metadata": {
        "colab": {
          "base_uri": "https://localhost:8080/"
        },
        "id": "4uTqKdzvHvvi",
        "outputId": "81895474-8d0e-4356-d547-c862648de9e2"
      },
      "outputs": [
        {
          "name": "stdout",
          "output_type": "stream",
          "text": [
            "{'African-American-Black', 'Asian', 'Caucasian-White', ' Other', 'Latino-Hispanic'}\n"
          ]
        }
      ],
      "source": [
        "print((set(df_train['native-country'])))"
      ]
    },
    {
      "cell_type": "code",
      "execution_count": 118,
      "metadata": {
        "colab": {
          "base_uri": "https://localhost:8080/",
          "height": 428
        },
        "id": "_rpSeYearuy-",
        "outputId": "53417b5c-397a-4fe9-ac83-d9b30169a4ec"
      },
      "outputs": [
        {
          "data": {
            "text/html": [
              "<div>\n",
              "<style scoped>\n",
              "    .dataframe tbody tr th:only-of-type {\n",
              "        vertical-align: middle;\n",
              "    }\n",
              "\n",
              "    .dataframe tbody tr th {\n",
              "        vertical-align: top;\n",
              "    }\n",
              "\n",
              "    .dataframe thead th {\n",
              "        text-align: right;\n",
              "    }\n",
              "</style>\n",
              "<table border=\"1\" class=\"dataframe\">\n",
              "  <thead>\n",
              "    <tr style=\"text-align: right;\">\n",
              "      <th></th>\n",
              "      <th>age</th>\n",
              "      <th>workclass</th>\n",
              "      <th>fnlwgt</th>\n",
              "      <th>education</th>\n",
              "      <th>education-num</th>\n",
              "      <th>marital-status</th>\n",
              "      <th>occupation</th>\n",
              "      <th>relationship</th>\n",
              "      <th>race</th>\n",
              "      <th>sex</th>\n",
              "      <th>capital-gain</th>\n",
              "      <th>capital-loss</th>\n",
              "      <th>hours-per-week</th>\n",
              "      <th>native-country</th>\n",
              "      <th>income</th>\n",
              "    </tr>\n",
              "  </thead>\n",
              "  <tbody>\n",
              "    <tr>\n",
              "      <th>24764</th>\n",
              "      <td>33</td>\n",
              "      <td>Private</td>\n",
              "      <td>0.181258</td>\n",
              "      <td>Non Graduated</td>\n",
              "      <td>9</td>\n",
              "      <td>Married</td>\n",
              "      <td>Prof-specialty</td>\n",
              "      <td>Husband</td>\n",
              "      <td>White</td>\n",
              "      <td>Male</td>\n",
              "      <td>0.000000</td>\n",
              "      <td>0.000000</td>\n",
              "      <td>60</td>\n",
              "      <td>African-American-Black</td>\n",
              "      <td>0</td>\n",
              "    </tr>\n",
              "    <tr>\n",
              "      <th>9890</th>\n",
              "      <td>59</td>\n",
              "      <td>Private</td>\n",
              "      <td>0.176095</td>\n",
              "      <td>Non Graduated</td>\n",
              "      <td>10</td>\n",
              "      <td>Married</td>\n",
              "      <td>Self-emp-occ</td>\n",
              "      <td>Husband</td>\n",
              "      <td>White</td>\n",
              "      <td>Male</td>\n",
              "      <td>0.150242</td>\n",
              "      <td>0.000000</td>\n",
              "      <td>50</td>\n",
              "      <td>African-American-Black</td>\n",
              "      <td>1</td>\n",
              "    </tr>\n",
              "    <tr>\n",
              "      <th>2754</th>\n",
              "      <td>80</td>\n",
              "      <td>Self-emp</td>\n",
              "      <td>0.116848</td>\n",
              "      <td>Non Graduated</td>\n",
              "      <td>4</td>\n",
              "      <td>Married</td>\n",
              "      <td>Self-emp-occ</td>\n",
              "      <td>Husband</td>\n",
              "      <td>White</td>\n",
              "      <td>Male</td>\n",
              "      <td>0.000000</td>\n",
              "      <td>0.000000</td>\n",
              "      <td>30</td>\n",
              "      <td>African-American-Black</td>\n",
              "      <td>0</td>\n",
              "    </tr>\n",
              "    <tr>\n",
              "      <th>5298</th>\n",
              "      <td>33</td>\n",
              "      <td>Private</td>\n",
              "      <td>0.059664</td>\n",
              "      <td>Non Graduated</td>\n",
              "      <td>9</td>\n",
              "      <td>Married</td>\n",
              "      <td>Government-occ</td>\n",
              "      <td>Wife</td>\n",
              "      <td>White</td>\n",
              "      <td>Female</td>\n",
              "      <td>0.000000</td>\n",
              "      <td>0.399449</td>\n",
              "      <td>25</td>\n",
              "      <td>African-American-Black</td>\n",
              "      <td>0</td>\n",
              "    </tr>\n",
              "    <tr>\n",
              "      <th>2593</th>\n",
              "      <td>39</td>\n",
              "      <td>Private</td>\n",
              "      <td>0.206117</td>\n",
              "      <td>Master's Degree</td>\n",
              "      <td>14</td>\n",
              "      <td>Never-married</td>\n",
              "      <td>Private-occ</td>\n",
              "      <td>Not-in-family</td>\n",
              "      <td>Black</td>\n",
              "      <td>Male</td>\n",
              "      <td>0.086141</td>\n",
              "      <td>0.000000</td>\n",
              "      <td>52</td>\n",
              "      <td>African-American-Black</td>\n",
              "      <td>1</td>\n",
              "    </tr>\n",
              "  </tbody>\n",
              "</table>\n",
              "</div>"
            ],
            "text/plain": [
              "       age  workclass    fnlwgt        education  education-num  \\\n",
              "24764   33    Private  0.181258    Non Graduated              9   \n",
              "9890    59    Private  0.176095    Non Graduated             10   \n",
              "2754    80   Self-emp  0.116848    Non Graduated              4   \n",
              "5298    33    Private  0.059664    Non Graduated              9   \n",
              "2593    39    Private  0.206117  Master's Degree             14   \n",
              "\n",
              "       marital-status      occupation    relationship    race      sex  \\\n",
              "24764         Married  Prof-specialty         Husband   White     Male   \n",
              "9890          Married    Self-emp-occ         Husband   White     Male   \n",
              "2754          Married    Self-emp-occ         Husband   White     Male   \n",
              "5298          Married  Government-occ            Wife   White   Female   \n",
              "2593    Never-married     Private-occ   Not-in-family   Black     Male   \n",
              "\n",
              "       capital-gain  capital-loss  hours-per-week          native-country  \\\n",
              "24764      0.000000      0.000000              60  African-American-Black   \n",
              "9890       0.150242      0.000000              50  African-American-Black   \n",
              "2754       0.000000      0.000000              30  African-American-Black   \n",
              "5298       0.000000      0.399449              25  African-American-Black   \n",
              "2593       0.086141      0.000000              52  African-American-Black   \n",
              "\n",
              "       income  \n",
              "24764       0  \n",
              "9890        1  \n",
              "2754        0  \n",
              "5298        0  \n",
              "2593        1  "
            ]
          },
          "execution_count": 118,
          "metadata": {},
          "output_type": "execute_result"
        }
      ],
      "source": [
        "df_train.head()"
      ]
    },
    {
      "cell_type": "markdown",
      "metadata": {
        "id": "9fyRo-VsKZMM"
      },
      "source": [
        "ENCODING\n",
        "Label Encoding"
      ]
    },
    {
      "cell_type": "code",
      "execution_count": 119,
      "metadata": {
        "colab": {
          "base_uri": "https://localhost:8080/"
        },
        "id": "nsSz23Ju2Ip6",
        "outputId": "1393b307-c6b7-42e6-82ca-0c900fe41d8d"
      },
      "outputs": [],
      "source": [
        "#df_train.info()\n",
        "#df_test.info()\n"
      ]
    },
    {
      "cell_type": "code",
      "execution_count": 120,
      "metadata": {
        "id": "_PSi_klh2Ip6"
      },
      "outputs": [],
      "source": [
        "categorical_cols = [1, 3, 5, 6, 7, 8, 9, 13]"
      ]
    },
    {
      "cell_type": "code",
      "execution_count": 121,
      "metadata": {},
      "outputs": [],
      "source": [
        "df_train_enc = df_train.copy()\n",
        "df_test_enc = df_test.copy()"
      ]
    },
    {
      "cell_type": "code",
      "execution_count": 122,
      "metadata": {
        "colab": {
          "base_uri": "https://localhost:8080/"
        },
        "id": "5mqGEuI22Ip7",
        "outputId": "1821ec69-a720-4610-8122-fd0463d569b7"
      },
      "outputs": [
        {
          "name": "stdout",
          "output_type": "stream",
          "text": [
            "Feature 1: \n",
            "Encoded values:  [0, 1, 2, 3, 4, 5]\n",
            "Original values:  [' Government' ' Never-worked' ' Private' ' Self-emp' ' Unknown'\n",
            " ' Without-pay']\n",
            "\n",
            "Feature 3: \n",
            "Encoded values:  [0, 1, 2, 3]\n",
            "Original values:  [\"Bachelor's Degree\" 'Doctorate Degree' \"Master's Degree\" 'Non Graduated']\n",
            "\n",
            "Feature 5: \n",
            "Encoded values:  [0, 1, 2, 3, 4]\n",
            "Original values:  [' Divorced' ' Married' ' Never-married' ' Separated' ' Widowed']\n",
            "\n",
            "Feature 6: \n",
            "Encoded values:  [0, 1, 2, 3, 4, 5]\n",
            "Original values:  [' Self-emp-occ' 'Government-occ' 'Other-service' 'Private-occ'\n",
            " 'Prof-specialty' 'Unknown']\n",
            "\n",
            "Feature 7: \n",
            "Encoded values:  [0, 1, 2, 3, 4, 5]\n",
            "Original values:  [' Husband' ' Not-in-family' ' Other-relative' ' Own-child' ' Unmarried'\n",
            " ' Wife']\n",
            "\n",
            "Feature 8: \n",
            "Encoded values:  [0, 1, 2, 3, 4]\n",
            "Original values:  [' Amer-Indian-Eskimo' ' Asian-Pac-Islander' ' Black' ' Other' ' White']\n",
            "\n",
            "Feature 9: \n",
            "Encoded values:  [0, 1]\n",
            "Original values:  [' Female' ' Male']\n",
            "\n",
            "Feature 13: \n",
            "Encoded values:  [0, 1, 2, 3, 4]\n",
            "Original values:  [' Other' 'African-American-Black' 'Asian' 'Caucasian-White'\n",
            " 'Latino-Hispanic']\n",
            "\n"
          ]
        }
      ],
      "source": [
        "categorical_names = {}\n",
        "le_dict = {}\n",
        "\n",
        "for feature in categorical_cols:\n",
        "    le = LabelEncoder()\n",
        "    transformed_values = le.fit_transform(df_train_enc.iloc[:, feature])\n",
        "    df_train_enc.iloc[:, feature] = transformed_values\n",
        "    categorical_names[feature] = le.classes_\n",
        "    le_dict[feature] = le\n",
        "\n",
        "for feature, classes in categorical_names.items():\n",
        "    print(f'Feature {feature}: ')\n",
        "    print('Encoded values: ', list(range(len(classes))))\n",
        "    print('Original values: ', classes)\n",
        "    print()\n",
        "\n",
        "# Per le colonne non categoriche\n",
        "non_categorical_cols = [col for col in df_train_enc.columns if col not in categorical_cols]\n",
        "for col in non_categorical_cols:\n",
        "    le = LabelEncoder()\n",
        "    transformed_values = le.fit_transform(df_train_enc[col])\n",
        "    df_train_enc[col] = transformed_values\n"
      ]
    },
    {
      "cell_type": "code",
      "execution_count": 123,
      "metadata": {
        "id": "BZ3dYm5dVxPl"
      },
      "outputs": [],
      "source": [
        "original_labels_dict = {\n",
        "    'workclass': ['Government', 'Never-worked', 'Private', 'Self-emp', 'Unknown', 'Without-pay'],\n",
        "    'education': [\"Bachelor's Degree\", 'Doctorate Degree', \"Master's Degree\", 'Non Graduated'],\n",
        "    'marital-status': ['Divorced', 'Married', 'Never-married', 'Separated', 'Widowed'],\n",
        "    'occupation': ['Self-emp-occ', 'Government-occ', 'Other-service', 'Private-occ', 'Prof-specialty', 'Unknown'],\n",
        "    'relationship': ['Husband', 'Not-in-family', 'Other-relative', 'Own-child', 'Unmarried', 'Wife'],\n",
        "    'race': ['Amer-Indian-Eskimo', 'Asian-Pac-Islander', 'Black', 'Other', 'White'],\n",
        "    'sex': ['Female', 'Male'],\n",
        "    'native-country': ['Other', 'African-American-Black', 'Asian', 'Caucasian-White', 'Latino-Hispanic']\n",
        "}\n",
        "def get_original_label(column_name, encoded_value):\n",
        "    return original_labels_dict[column_name][encoded_value]"
      ]
    },
    {
      "cell_type": "code",
      "execution_count": 124,
      "metadata": {
        "colab": {
          "base_uri": "https://localhost:8080/"
        },
        "id": "rfytiR8B2Ip7",
        "outputId": "7683da53-fb7d-48b9-97e0-3bc1573754ee"
      },
      "outputs": [],
      "source": [
        "#print(df_train_enc.info())"
      ]
    },
    {
      "cell_type": "code",
      "execution_count": 125,
      "metadata": {
        "colab": {
          "base_uri": "https://localhost:8080/"
        },
        "id": "zhdKl9xA2Ip7",
        "outputId": "57e52651-b490-4056-e09a-b836184f5f0c"
      },
      "outputs": [
        {
          "name": "stdout",
          "output_type": "stream",
          "text": [
            "Feature 1: \n",
            "\n",
            "Encoded values:  [0, 1, 2, 3, 4, 5]\n",
            "Original values:  [' Government' ' Never-worked' ' Private' ' Self-emp' ' Unknown'\n",
            " ' Without-pay']\n",
            "Feature 3: \n",
            "\n",
            "Encoded values:  [0, 1, 2, 3]\n",
            "Original values:  [\"Bachelor's Degree\" 'Doctorate Degree' \"Master's Degree\" 'Non Graduated']\n",
            "Feature 5: \n",
            "\n",
            "Encoded values:  [0, 1, 2, 3, 4]\n",
            "Original values:  [' Divorced' ' Married' ' Never-married' ' Separated' ' Widowed']\n",
            "Feature 6: \n",
            "\n",
            "Encoded values:  [0, 1, 2, 3, 4, 5]\n",
            "Original values:  [' Self-emp-occ' 'Government-occ' 'Other-service' 'Private-occ'\n",
            " 'Prof-specialty' 'Unknown']\n",
            "Feature 7: \n",
            "\n",
            "Encoded values:  [0, 1, 2, 3, 4, 5]\n",
            "Original values:  [' Husband' ' Not-in-family' ' Other-relative' ' Own-child' ' Unmarried'\n",
            " ' Wife']\n",
            "Feature 8: \n",
            "\n",
            "Encoded values:  [0, 1, 2, 3, 4]\n",
            "Original values:  [' Amer-Indian-Eskimo' ' Asian-Pac-Islander' ' Black' ' Other' ' White']\n",
            "Feature 9: \n",
            "\n",
            "Encoded values:  [0, 1]\n",
            "Original values:  [' Female' ' Male']\n",
            "Feature 13: \n",
            "\n",
            "Encoded values:  [0, 1, 2, 3, 4]\n",
            "Original values:  [' Other' 'African-American-Black' 'Asian' 'Caucasian-White'\n",
            " 'Latino-Hispanic']\n"
          ]
        }
      ],
      "source": [
        "categorical_names_test = {}\n",
        "le_dict_test = {}\n",
        "\n",
        "for feature in categorical_cols:\n",
        "    le = le_dict[feature]\n",
        "    transformed_values = le.transform(df_test_enc.iloc[:, feature])\n",
        "    df_test_enc.iloc[:, feature] = transformed_values\n",
        "    categorical_names_test[feature] = le.classes_\n",
        "    le_dict_test[feature] = le\n",
        "\n",
        "for feature, classes in categorical_names_test.items():\n",
        "    print(f'Feature {feature}: ')\n",
        "    print()\n",
        "    print('Encoded values: ', list(range(len(classes))))\n",
        "    print('Original values: ', classes)\n",
        "\n",
        "# Per le colonne non categoriche\n",
        "non_categorical_cols = [col for col in df_test_enc.columns if col not in categorical_cols]\n",
        "for col in non_categorical_cols:\n",
        "    le = LabelEncoder()\n",
        "    transformed_values = le.fit_transform(df_test_enc[col])\n",
        "    df_test_enc[col] = transformed_values\n"
      ]
    },
    {
      "cell_type": "code",
      "execution_count": 126,
      "metadata": {
        "colab": {
          "base_uri": "https://localhost:8080/"
        },
        "id": "G90FqZ0r2Ip7",
        "outputId": "4fdfa2e5-e6c5-4a69-f767-51aaf242ddd6"
      },
      "outputs": [
        {
          "name": "stdout",
          "output_type": "stream",
          "text": [
            "<class 'pandas.core.frame.DataFrame'>\n",
            "Index: 26029 entries, 24764 to 5372\n",
            "Data columns (total 15 columns):\n",
            " #   Column          Non-Null Count  Dtype  \n",
            "---  ------          --------------  -----  \n",
            " 0   age             26029 non-null  int64  \n",
            " 1   workclass       26029 non-null  object \n",
            " 2   fnlwgt          26029 non-null  float64\n",
            " 3   education       26029 non-null  object \n",
            " 4   education-num   26029 non-null  int64  \n",
            " 5   marital-status  26029 non-null  object \n",
            " 6   occupation      26029 non-null  object \n",
            " 7   relationship    26029 non-null  object \n",
            " 8   race            26029 non-null  object \n",
            " 9   sex             26029 non-null  object \n",
            " 10  capital-gain    26029 non-null  float64\n",
            " 11  capital-loss    26029 non-null  float64\n",
            " 12  hours-per-week  26029 non-null  int64  \n",
            " 13  native-country  26029 non-null  object \n",
            " 14  income          26029 non-null  int64  \n",
            "dtypes: float64(3), int64(4), object(8)\n",
            "memory usage: 3.2+ MB\n",
            "None\n"
          ]
        }
      ],
      "source": [
        "print(df_train.info())"
      ]
    },
    {
      "cell_type": "code",
      "execution_count": 127,
      "metadata": {
        "colab": {
          "base_uri": "https://localhost:8080/"
        },
        "id": "omdbn-oq2Ip7",
        "outputId": "2bbb4843-de23-478a-fa49-c9ed847141dd"
      },
      "outputs": [
        {
          "name": "stdout",
          "output_type": "stream",
          "text": [
            "<class 'pandas.core.frame.DataFrame'>\n",
            "Index: 26029 entries, 24764 to 5372\n",
            "Data columns (total 15 columns):\n",
            " #   Column          Non-Null Count  Dtype\n",
            "---  ------          --------------  -----\n",
            " 0   age             26029 non-null  int64\n",
            " 1   workclass       26029 non-null  int64\n",
            " 2   fnlwgt          26029 non-null  int64\n",
            " 3   education       26029 non-null  int64\n",
            " 4   education-num   26029 non-null  int64\n",
            " 5   marital-status  26029 non-null  int64\n",
            " 6   occupation      26029 non-null  int64\n",
            " 7   relationship    26029 non-null  int64\n",
            " 8   race            26029 non-null  int64\n",
            " 9   sex             26029 non-null  int64\n",
            " 10  capital-gain    26029 non-null  int64\n",
            " 11  capital-loss    26029 non-null  int64\n",
            " 12  hours-per-week  26029 non-null  int64\n",
            " 13  native-country  26029 non-null  int64\n",
            " 14  income          26029 non-null  int64\n",
            "dtypes: int64(15)\n",
            "memory usage: 3.2 MB\n",
            "None\n"
          ]
        }
      ],
      "source": [
        "print(df_train_enc.info())"
      ]
    },
    {
      "cell_type": "markdown",
      "metadata": {
        "id": "CIPVaY4boVw7"
      },
      "source": [
        "By analyzing the correlation, it seems that only education and education-num are highly correlated (both linear and non linear correlation)\n",
        "Sex and relationship are correlated, but if I remove one of them I can lose informations"
      ]
    },
    {
      "cell_type": "code",
      "execution_count": 128,
      "metadata": {
        "colab": {
          "base_uri": "https://localhost:8080/",
          "height": 258
        },
        "id": "2OHfZ-PC2Ip8",
        "outputId": "1f64256e-926d-45fa-ec12-8475c1d73381"
      },
      "outputs": [
        {
          "data": {
            "text/html": [
              "<div>\n",
              "<style scoped>\n",
              "    .dataframe tbody tr th:only-of-type {\n",
              "        vertical-align: middle;\n",
              "    }\n",
              "\n",
              "    .dataframe tbody tr th {\n",
              "        vertical-align: top;\n",
              "    }\n",
              "\n",
              "    .dataframe thead th {\n",
              "        text-align: right;\n",
              "    }\n",
              "</style>\n",
              "<table border=\"1\" class=\"dataframe\">\n",
              "  <thead>\n",
              "    <tr style=\"text-align: right;\">\n",
              "      <th></th>\n",
              "      <th>age</th>\n",
              "      <th>workclass</th>\n",
              "      <th>fnlwgt</th>\n",
              "      <th>education-num</th>\n",
              "      <th>marital-status</th>\n",
              "      <th>occupation</th>\n",
              "      <th>relationship</th>\n",
              "      <th>race</th>\n",
              "      <th>sex</th>\n",
              "      <th>capital-gain</th>\n",
              "      <th>capital-loss</th>\n",
              "      <th>hours-per-week</th>\n",
              "      <th>native-country</th>\n",
              "      <th>income</th>\n",
              "    </tr>\n",
              "  </thead>\n",
              "  <tbody>\n",
              "    <tr>\n",
              "      <th>24764</th>\n",
              "      <td>33</td>\n",
              "      <td>Private</td>\n",
              "      <td>0.181258</td>\n",
              "      <td>9</td>\n",
              "      <td>Married</td>\n",
              "      <td>Prof-specialty</td>\n",
              "      <td>Husband</td>\n",
              "      <td>White</td>\n",
              "      <td>Male</td>\n",
              "      <td>0.000000</td>\n",
              "      <td>0.000000</td>\n",
              "      <td>60</td>\n",
              "      <td>African-American-Black</td>\n",
              "      <td>0</td>\n",
              "    </tr>\n",
              "    <tr>\n",
              "      <th>9890</th>\n",
              "      <td>59</td>\n",
              "      <td>Private</td>\n",
              "      <td>0.176095</td>\n",
              "      <td>10</td>\n",
              "      <td>Married</td>\n",
              "      <td>Self-emp-occ</td>\n",
              "      <td>Husband</td>\n",
              "      <td>White</td>\n",
              "      <td>Male</td>\n",
              "      <td>0.150242</td>\n",
              "      <td>0.000000</td>\n",
              "      <td>50</td>\n",
              "      <td>African-American-Black</td>\n",
              "      <td>1</td>\n",
              "    </tr>\n",
              "    <tr>\n",
              "      <th>2754</th>\n",
              "      <td>80</td>\n",
              "      <td>Self-emp</td>\n",
              "      <td>0.116848</td>\n",
              "      <td>4</td>\n",
              "      <td>Married</td>\n",
              "      <td>Self-emp-occ</td>\n",
              "      <td>Husband</td>\n",
              "      <td>White</td>\n",
              "      <td>Male</td>\n",
              "      <td>0.000000</td>\n",
              "      <td>0.000000</td>\n",
              "      <td>30</td>\n",
              "      <td>African-American-Black</td>\n",
              "      <td>0</td>\n",
              "    </tr>\n",
              "    <tr>\n",
              "      <th>5298</th>\n",
              "      <td>33</td>\n",
              "      <td>Private</td>\n",
              "      <td>0.059664</td>\n",
              "      <td>9</td>\n",
              "      <td>Married</td>\n",
              "      <td>Government-occ</td>\n",
              "      <td>Wife</td>\n",
              "      <td>White</td>\n",
              "      <td>Female</td>\n",
              "      <td>0.000000</td>\n",
              "      <td>0.399449</td>\n",
              "      <td>25</td>\n",
              "      <td>African-American-Black</td>\n",
              "      <td>0</td>\n",
              "    </tr>\n",
              "    <tr>\n",
              "      <th>2593</th>\n",
              "      <td>39</td>\n",
              "      <td>Private</td>\n",
              "      <td>0.206117</td>\n",
              "      <td>14</td>\n",
              "      <td>Never-married</td>\n",
              "      <td>Private-occ</td>\n",
              "      <td>Not-in-family</td>\n",
              "      <td>Black</td>\n",
              "      <td>Male</td>\n",
              "      <td>0.086141</td>\n",
              "      <td>0.000000</td>\n",
              "      <td>52</td>\n",
              "      <td>African-American-Black</td>\n",
              "      <td>1</td>\n",
              "    </tr>\n",
              "  </tbody>\n",
              "</table>\n",
              "</div>"
            ],
            "text/plain": [
              "       age  workclass    fnlwgt  education-num  marital-status  \\\n",
              "24764   33    Private  0.181258              9         Married   \n",
              "9890    59    Private  0.176095             10         Married   \n",
              "2754    80   Self-emp  0.116848              4         Married   \n",
              "5298    33    Private  0.059664              9         Married   \n",
              "2593    39    Private  0.206117             14   Never-married   \n",
              "\n",
              "           occupation    relationship    race      sex  capital-gain  \\\n",
              "24764  Prof-specialty         Husband   White     Male      0.000000   \n",
              "9890     Self-emp-occ         Husband   White     Male      0.150242   \n",
              "2754     Self-emp-occ         Husband   White     Male      0.000000   \n",
              "5298   Government-occ            Wife   White   Female      0.000000   \n",
              "2593      Private-occ   Not-in-family   Black     Male      0.086141   \n",
              "\n",
              "       capital-loss  hours-per-week          native-country  income  \n",
              "24764      0.000000              60  African-American-Black       0  \n",
              "9890       0.000000              50  African-American-Black       1  \n",
              "2754       0.000000              30  African-American-Black       0  \n",
              "5298       0.399449              25  African-American-Black       0  \n",
              "2593       0.000000              52  African-American-Black       1  "
            ]
          },
          "execution_count": 128,
          "metadata": {},
          "output_type": "execute_result"
        }
      ],
      "source": [
        "df_train.drop('education', axis = 1, inplace = True)\n",
        "df_train.head()"
      ]
    },
    {
      "cell_type": "code",
      "execution_count": 129,
      "metadata": {
        "colab": {
          "base_uri": "https://localhost:8080/",
          "height": 258
        },
        "id": "eBZWXbDp2Ip8",
        "outputId": "c3be6ea0-abb1-4d10-ce3b-c9275fc21195"
      },
      "outputs": [
        {
          "data": {
            "text/html": [
              "<div>\n",
              "<style scoped>\n",
              "    .dataframe tbody tr th:only-of-type {\n",
              "        vertical-align: middle;\n",
              "    }\n",
              "\n",
              "    .dataframe tbody tr th {\n",
              "        vertical-align: top;\n",
              "    }\n",
              "\n",
              "    .dataframe thead th {\n",
              "        text-align: right;\n",
              "    }\n",
              "</style>\n",
              "<table border=\"1\" class=\"dataframe\">\n",
              "  <thead>\n",
              "    <tr style=\"text-align: right;\">\n",
              "      <th></th>\n",
              "      <th>age</th>\n",
              "      <th>workclass</th>\n",
              "      <th>fnlwgt</th>\n",
              "      <th>education-num</th>\n",
              "      <th>marital-status</th>\n",
              "      <th>occupation</th>\n",
              "      <th>relationship</th>\n",
              "      <th>race</th>\n",
              "      <th>sex</th>\n",
              "      <th>capital-gain</th>\n",
              "      <th>capital-loss</th>\n",
              "      <th>hours-per-week</th>\n",
              "      <th>native-country</th>\n",
              "      <th>income</th>\n",
              "    </tr>\n",
              "  </thead>\n",
              "  <tbody>\n",
              "    <tr>\n",
              "      <th>20334</th>\n",
              "      <td>27</td>\n",
              "      <td>Private</td>\n",
              "      <td>0.113028</td>\n",
              "      <td>14</td>\n",
              "      <td>Never-married</td>\n",
              "      <td>Self-emp-occ</td>\n",
              "      <td>Not-in-family</td>\n",
              "      <td>White</td>\n",
              "      <td>Female</td>\n",
              "      <td>0.0</td>\n",
              "      <td>0.0</td>\n",
              "      <td>40</td>\n",
              "      <td>African-American-Black</td>\n",
              "      <td>0</td>\n",
              "    </tr>\n",
              "    <tr>\n",
              "      <th>23878</th>\n",
              "      <td>51</td>\n",
              "      <td>Government</td>\n",
              "      <td>0.254659</td>\n",
              "      <td>13</td>\n",
              "      <td>Married</td>\n",
              "      <td>Government-occ</td>\n",
              "      <td>Husband</td>\n",
              "      <td>White</td>\n",
              "      <td>Male</td>\n",
              "      <td>0.0</td>\n",
              "      <td>0.0</td>\n",
              "      <td>50</td>\n",
              "      <td>African-American-Black</td>\n",
              "      <td>1</td>\n",
              "    </tr>\n",
              "    <tr>\n",
              "      <th>19996</th>\n",
              "      <td>34</td>\n",
              "      <td>Private</td>\n",
              "      <td>0.129184</td>\n",
              "      <td>8</td>\n",
              "      <td>Married</td>\n",
              "      <td>Other-service</td>\n",
              "      <td>Husband</td>\n",
              "      <td>White</td>\n",
              "      <td>Male</td>\n",
              "      <td>0.0</td>\n",
              "      <td>0.0</td>\n",
              "      <td>40</td>\n",
              "      <td>Latino-Hispanic</td>\n",
              "      <td>0</td>\n",
              "    </tr>\n",
              "    <tr>\n",
              "      <th>21440</th>\n",
              "      <td>31</td>\n",
              "      <td>Private</td>\n",
              "      <td>0.082569</td>\n",
              "      <td>12</td>\n",
              "      <td>Divorced</td>\n",
              "      <td>Private-occ</td>\n",
              "      <td>Not-in-family</td>\n",
              "      <td>White</td>\n",
              "      <td>Male</td>\n",
              "      <td>0.0</td>\n",
              "      <td>0.0</td>\n",
              "      <td>40</td>\n",
              "      <td>African-American-Black</td>\n",
              "      <td>0</td>\n",
              "    </tr>\n",
              "    <tr>\n",
              "      <th>10000</th>\n",
              "      <td>34</td>\n",
              "      <td>Private</td>\n",
              "      <td>0.073468</td>\n",
              "      <td>10</td>\n",
              "      <td>Divorced</td>\n",
              "      <td>Government-occ</td>\n",
              "      <td>Not-in-family</td>\n",
              "      <td>White</td>\n",
              "      <td>Female</td>\n",
              "      <td>0.0</td>\n",
              "      <td>0.0</td>\n",
              "      <td>50</td>\n",
              "      <td>African-American-Black</td>\n",
              "      <td>0</td>\n",
              "    </tr>\n",
              "  </tbody>\n",
              "</table>\n",
              "</div>"
            ],
            "text/plain": [
              "       age    workclass    fnlwgt  education-num  marital-status  \\\n",
              "20334   27      Private  0.113028             14   Never-married   \n",
              "23878   51   Government  0.254659             13         Married   \n",
              "19996   34      Private  0.129184              8         Married   \n",
              "21440   31      Private  0.082569             12        Divorced   \n",
              "10000   34      Private  0.073468             10        Divorced   \n",
              "\n",
              "           occupation    relationship    race      sex  capital-gain  \\\n",
              "20334    Self-emp-occ   Not-in-family   White   Female           0.0   \n",
              "23878  Government-occ         Husband   White     Male           0.0   \n",
              "19996   Other-service         Husband   White     Male           0.0   \n",
              "21440     Private-occ   Not-in-family   White     Male           0.0   \n",
              "10000  Government-occ   Not-in-family   White   Female           0.0   \n",
              "\n",
              "       capital-loss  hours-per-week          native-country  income  \n",
              "20334           0.0              40  African-American-Black       0  \n",
              "23878           0.0              50  African-American-Black       1  \n",
              "19996           0.0              40         Latino-Hispanic       0  \n",
              "21440           0.0              40  African-American-Black       0  \n",
              "10000           0.0              50  African-American-Black       0  "
            ]
          },
          "execution_count": 129,
          "metadata": {},
          "output_type": "execute_result"
        }
      ],
      "source": [
        "df_test.drop('education', axis = 1, inplace = True)\n",
        "df_test.head()"
      ]
    },
    {
      "cell_type": "markdown",
      "metadata": {
        "id": "q5KHyqUq2Ip9"
      },
      "source": [
        "FINE PREPROCESSING \n",
        "Algoritmi ML: Random Forest"
      ]
    },
    {
      "cell_type": "code",
      "execution_count": 130,
      "metadata": {},
      "outputs": [],
      "source": [
        "X_train = df_train.drop(columns = 'income', axis = 1)\n",
        "y_train = df_train['income']\n",
        "\n",
        "X_test = df_test.drop(columns = 'income', axis = 1)\n",
        "y_test = df_test['income']"
      ]
    },
    {
      "cell_type": "code",
      "execution_count": 131,
      "metadata": {
        "id": "ipiQvsJz2Ip9"
      },
      "outputs": [],
      "source": [
        "X_train_enc = df_train_enc.drop(columns = 'income', axis = 1)\n",
        "y_train_enc = df_train_enc['income']\n"
      ]
    },
    {
      "cell_type": "code",
      "execution_count": 132,
      "metadata": {
        "id": "VVa1EXys2Ip9"
      },
      "outputs": [],
      "source": [
        "X_test_enc = df_test_enc.drop(columns = 'income', axis = 1)\n",
        "y_test_enc = df_test_enc['income']\n"
      ]
    },
    {
      "cell_type": "markdown",
      "metadata": {
        "id": "Ev2ROvoM2Ip9"
      },
      "source": [
        "FINE PREPROCESSING"
      ]
    },
    {
      "cell_type": "markdown",
      "metadata": {},
      "source": [
        "RANDOM FOREST"
      ]
    },
    {
      "cell_type": "code",
      "execution_count": 133,
      "metadata": {},
      "outputs": [
        {
          "data": {
            "image/png": "[encoded data removed]",
            "text/plain": [
              "<Figure size 640x480 with 2 Axes>"
            ]
          },
          "metadata": {},
          "output_type": "display_data"
        }
      ],
      "source": [
        "\n",
        "cmap = sns.dark_palette(\"pink\", as_cmap=True)\n",
        "\n",
        "rf = RandomForestClassifier(random_state=42)\n",
        "rf.fit(X_train_enc, y_train_enc)\n",
        "y_pred_rf = rf.predict(X_test_enc)\n",
        "cm_rf = confusion_matrix(y_test_enc, y_pred_rf)\n",
        "\n",
        "disp = ConfusionMatrixDisplay(confusion_matrix=cm_rf, display_labels=[False, True])\n",
        "disp.plot(cmap=cmap)\n",
        "plt.show()\n",
        "\n"
      ]
    },
    {
      "cell_type": "code",
      "execution_count": 134,
      "metadata": {},
      "outputs": [
        {
          "name": "stdout",
          "output_type": "stream",
          "text": [
            "              precision    recall  f1-score   support\n",
            "\n",
            "           0       0.83      0.94      0.88      4940\n",
            "           1       0.68      0.41      0.51      1568\n",
            "\n",
            "    accuracy                           0.81      6508\n",
            "   macro avg       0.76      0.68      0.70      6508\n",
            "weighted avg       0.80      0.81      0.79      6508\n",
            "\n"
          ]
        }
      ],
      "source": [
        "print(classification_report(y_test_enc, y_pred_rf))"
      ]
    },
    {
      "cell_type": "code",
      "execution_count": 135,
      "metadata": {},
      "outputs": [],
      "source": [
        "tn, fp, fn, tp = cm_rf.ravel()\n",
        "\n",
        "accuracy = accuracy_score(y_test_enc, y_pred_rf)\n",
        "false_positive_rate = fp / (fp + tn)\n",
        "false_negative_rate = fn / (fn + tp)\n",
        "\n",
        "# Create a DataFrame\n",
        "metrics_rf = pd.DataFrame({\n",
        "    'Accuracy': [accuracy],\n",
        "    'False Positive Rate': [false_positive_rate],\n",
        "    'False Negative Rate': [false_negative_rate],\n",
        "    'False Positives': [fp],\n",
        "    'False Negatives': [fn]\n",
        "})"
      ]
    },
    {
      "cell_type": "code",
      "execution_count": 136,
      "metadata": {},
      "outputs": [
        {
          "data": {
            "text/html": [
              "<div>\n",
              "<style scoped>\n",
              "    .dataframe tbody tr th:only-of-type {\n",
              "        vertical-align: middle;\n",
              "    }\n",
              "\n",
              "    .dataframe tbody tr th {\n",
              "        vertical-align: top;\n",
              "    }\n",
              "\n",
              "    .dataframe thead th {\n",
              "        text-align: right;\n",
              "    }\n",
              "</style>\n",
              "<table border=\"1\" class=\"dataframe\">\n",
              "  <thead>\n",
              "    <tr style=\"text-align: right;\">\n",
              "      <th></th>\n",
              "      <th>Accuracy</th>\n",
              "      <th>False Positive Rate</th>\n",
              "      <th>False Negative Rate</th>\n",
              "      <th>False Positives</th>\n",
              "      <th>False Negatives</th>\n",
              "    </tr>\n",
              "  </thead>\n",
              "  <tbody>\n",
              "    <tr>\n",
              "      <th>0</th>\n",
              "      <td>0.81177</td>\n",
              "      <td>0.061943</td>\n",
              "      <td>0.586097</td>\n",
              "      <td>306</td>\n",
              "      <td>919</td>\n",
              "    </tr>\n",
              "  </tbody>\n",
              "</table>\n",
              "</div>"
            ],
            "text/plain": [
              "   Accuracy  False Positive Rate  False Negative Rate  False Positives  \\\n",
              "0   0.81177             0.061943             0.586097              306   \n",
              "\n",
              "   False Negatives  \n",
              "0              919  "
            ]
          },
          "execution_count": 136,
          "metadata": {},
          "output_type": "execute_result"
        }
      ],
      "source": [
        "metrics_rf\n"
      ]
    },
    {
      "cell_type": "markdown",
      "metadata": {
        "id": "kCcnFW8D2Ip-"
      },
      "source": [
        "SUBGROUPS SEARCH"
      ]
    },
    {
      "cell_type": "code",
      "execution_count": 137,
      "metadata": {
        "colab": {
          "base_uri": "https://localhost:8080/"
        },
        "id": "3Gq_HhpB2Ip-",
        "outputId": "0b22ffcf-1904-4f82-996c-7d4902c9e540"
      },
      "outputs": [],
      "source": [
        "#! pip install divexplorer"
      ]
    },
    {
      "cell_type": "code",
      "execution_count": 138,
      "metadata": {
        "id": "FcodzN3B2Ip-"
      },
      "outputs": [],
      "source": [
        "from divexplorer import DivergenceExplorer\n",
        "from divexplorer import DivergencePatternProcessor\n",
        "from divexplorer.outcomes import get_false_positive_rate_outcome"
      ]
    },
    {
      "cell_type": "markdown",
      "metadata": {
        "id": "O1UfQGFNNFC1"
      },
      "source": [
        "For every model (here Random Forest):\n",
        "\n",
        "-I define pandas df which contains: X_test, y_test, y_pred by the model;\n",
        "\n",
        "-I apply DivExplorer on such dataset NOT ENCODED and with a discretization of age;\n",
        "\n",
        "-I see how the false positive rate changes in the subgroups w.r.t. the overall dataset;\n",
        "\n",
        "-Compute e plot local/global shapley values"
      ]
    },
    {
      "cell_type": "markdown",
      "metadata": {},
      "source": [
        "Let's make some modify on the data: let's discretize 'age'"
      ]
    },
    {
      "cell_type": "code",
      "execution_count": 139,
      "metadata": {},
      "outputs": [],
      "source": [
        "bins = [0, 25, 35, 45, 65, 90, float('inf')]  # Aggiunto float('inf') per gestire i valori oltre 90\n",
        "labels = ['<25', '26-35', '36-45', '46-65', '66-90', 'Outside Range']\n",
        "\n",
        "\n",
        "df_train['age_group'] = pd.cut(df_train['age'], bins=bins, labels=labels, right=False)\n",
        "df_train = df_train.drop(columns=['age']).rename(columns={'age_group': 'age'})\n",
        "\n",
        "df_test['age_group'] = pd.cut(df_test['age'], bins=bins, labels=labels, right=False)\n",
        "df_test = df_test.drop(columns=['age']).rename(columns={'age_group': 'age'})\n",
        "\n"
      ]
    },
    {
      "cell_type": "code",
      "execution_count": 140,
      "metadata": {},
      "outputs": [
        {
          "data": {
            "text/html": [
              "<div>\n",
              "<style scoped>\n",
              "    .dataframe tbody tr th:only-of-type {\n",
              "        vertical-align: middle;\n",
              "    }\n",
              "\n",
              "    .dataframe tbody tr th {\n",
              "        vertical-align: top;\n",
              "    }\n",
              "\n",
              "    .dataframe thead th {\n",
              "        text-align: right;\n",
              "    }\n",
              "</style>\n",
              "<table border=\"1\" class=\"dataframe\">\n",
              "  <thead>\n",
              "    <tr style=\"text-align: right;\">\n",
              "      <th></th>\n",
              "      <th>workclass</th>\n",
              "      <th>fnlwgt</th>\n",
              "      <th>education-num</th>\n",
              "      <th>marital-status</th>\n",
              "      <th>occupation</th>\n",
              "      <th>relationship</th>\n",
              "      <th>race</th>\n",
              "      <th>sex</th>\n",
              "      <th>capital-gain</th>\n",
              "      <th>capital-loss</th>\n",
              "      <th>hours-per-week</th>\n",
              "      <th>native-country</th>\n",
              "      <th>income</th>\n",
              "      <th>age</th>\n",
              "      <th>y_test</th>\n",
              "      <th>y_pred_rf</th>\n",
              "    </tr>\n",
              "  </thead>\n",
              "  <tbody>\n",
              "    <tr>\n",
              "      <th>20334</th>\n",
              "      <td>Private</td>\n",
              "      <td>0.113028</td>\n",
              "      <td>14</td>\n",
              "      <td>Never-married</td>\n",
              "      <td>Self-emp-occ</td>\n",
              "      <td>Not-in-family</td>\n",
              "      <td>White</td>\n",
              "      <td>Female</td>\n",
              "      <td>0.0</td>\n",
              "      <td>0.0</td>\n",
              "      <td>40</td>\n",
              "      <td>African-American-Black</td>\n",
              "      <td>0</td>\n",
              "      <td>26-35</td>\n",
              "      <td>0</td>\n",
              "      <td>0</td>\n",
              "    </tr>\n",
              "    <tr>\n",
              "      <th>23878</th>\n",
              "      <td>Government</td>\n",
              "      <td>0.254659</td>\n",
              "      <td>13</td>\n",
              "      <td>Married</td>\n",
              "      <td>Government-occ</td>\n",
              "      <td>Husband</td>\n",
              "      <td>White</td>\n",
              "      <td>Male</td>\n",
              "      <td>0.0</td>\n",
              "      <td>0.0</td>\n",
              "      <td>50</td>\n",
              "      <td>African-American-Black</td>\n",
              "      <td>1</td>\n",
              "      <td>46-65</td>\n",
              "      <td>1</td>\n",
              "      <td>1</td>\n",
              "    </tr>\n",
              "    <tr>\n",
              "      <th>19996</th>\n",
              "      <td>Private</td>\n",
              "      <td>0.129184</td>\n",
              "      <td>8</td>\n",
              "      <td>Married</td>\n",
              "      <td>Other-service</td>\n",
              "      <td>Husband</td>\n",
              "      <td>White</td>\n",
              "      <td>Male</td>\n",
              "      <td>0.0</td>\n",
              "      <td>0.0</td>\n",
              "      <td>40</td>\n",
              "      <td>Latino-Hispanic</td>\n",
              "      <td>0</td>\n",
              "      <td>26-35</td>\n",
              "      <td>0</td>\n",
              "      <td>0</td>\n",
              "    </tr>\n",
              "    <tr>\n",
              "      <th>21440</th>\n",
              "      <td>Private</td>\n",
              "      <td>0.082569</td>\n",
              "      <td>12</td>\n",
              "      <td>Divorced</td>\n",
              "      <td>Private-occ</td>\n",
              "      <td>Not-in-family</td>\n",
              "      <td>White</td>\n",
              "      <td>Male</td>\n",
              "      <td>0.0</td>\n",
              "      <td>0.0</td>\n",
              "      <td>40</td>\n",
              "      <td>African-American-Black</td>\n",
              "      <td>0</td>\n",
              "      <td>26-35</td>\n",
              "      <td>0</td>\n",
              "      <td>0</td>\n",
              "    </tr>\n",
              "    <tr>\n",
              "      <th>10000</th>\n",
              "      <td>Private</td>\n",
              "      <td>0.073468</td>\n",
              "      <td>10</td>\n",
              "      <td>Divorced</td>\n",
              "      <td>Government-occ</td>\n",
              "      <td>Not-in-family</td>\n",
              "      <td>White</td>\n",
              "      <td>Female</td>\n",
              "      <td>0.0</td>\n",
              "      <td>0.0</td>\n",
              "      <td>50</td>\n",
              "      <td>African-American-Black</td>\n",
              "      <td>0</td>\n",
              "      <td>26-35</td>\n",
              "      <td>0</td>\n",
              "      <td>0</td>\n",
              "    </tr>\n",
              "  </tbody>\n",
              "</table>\n",
              "</div>"
            ],
            "text/plain": [
              "         workclass    fnlwgt  education-num  marital-status      occupation  \\\n",
              "20334      Private  0.113028             14   Never-married    Self-emp-occ   \n",
              "23878   Government  0.254659             13         Married  Government-occ   \n",
              "19996      Private  0.129184              8         Married   Other-service   \n",
              "21440      Private  0.082569             12        Divorced     Private-occ   \n",
              "10000      Private  0.073468             10        Divorced  Government-occ   \n",
              "\n",
              "         relationship    race      sex  capital-gain  capital-loss  \\\n",
              "20334   Not-in-family   White   Female           0.0           0.0   \n",
              "23878         Husband   White     Male           0.0           0.0   \n",
              "19996         Husband   White     Male           0.0           0.0   \n",
              "21440   Not-in-family   White     Male           0.0           0.0   \n",
              "10000   Not-in-family   White   Female           0.0           0.0   \n",
              "\n",
              "       hours-per-week          native-country  income    age  y_test  \\\n",
              "20334              40  African-American-Black       0  26-35       0   \n",
              "23878              50  African-American-Black       1  46-65       1   \n",
              "19996              40         Latino-Hispanic       0  26-35       0   \n",
              "21440              40  African-American-Black       0  26-35       0   \n",
              "10000              50  African-American-Black       0  26-35       0   \n",
              "\n",
              "       y_pred_rf  \n",
              "20334          0  \n",
              "23878          1  \n",
              "19996          0  \n",
              "21440          0  \n",
              "10000          0  "
            ]
          },
          "execution_count": 140,
          "metadata": {},
          "output_type": "execute_result"
        }
      ],
      "source": [
        "df_test_rf = df_test.copy()\n",
        "df_test_rf['y_test'] = y_test\n",
        "df_test_rf['y_pred_rf'] = y_pred_rf\n",
        "df_test_rf.head(5)"
      ]
    },
    {
      "cell_type": "code",
      "execution_count": 141,
      "metadata": {},
      "outputs": [
        {
          "data": {
            "text/html": [
              "<div>\n",
              "<style scoped>\n",
              "    .dataframe tbody tr th:only-of-type {\n",
              "        vertical-align: middle;\n",
              "    }\n",
              "\n",
              "    .dataframe tbody tr th {\n",
              "        vertical-align: top;\n",
              "    }\n",
              "\n",
              "    .dataframe thead th {\n",
              "        text-align: right;\n",
              "    }\n",
              "</style>\n",
              "<table border=\"1\" class=\"dataframe\">\n",
              "  <thead>\n",
              "    <tr style=\"text-align: right;\">\n",
              "      <th></th>\n",
              "      <th>workclass</th>\n",
              "      <th>fnlwgt</th>\n",
              "      <th>education-num</th>\n",
              "      <th>marital-status</th>\n",
              "      <th>occupation</th>\n",
              "      <th>relationship</th>\n",
              "      <th>race</th>\n",
              "      <th>sex</th>\n",
              "      <th>capital-gain</th>\n",
              "      <th>capital-loss</th>\n",
              "      <th>hours-per-week</th>\n",
              "      <th>native-country</th>\n",
              "      <th>income</th>\n",
              "      <th>age</th>\n",
              "      <th>y_test</th>\n",
              "      <th>y_pred_rf</th>\n",
              "      <th>fp</th>\n",
              "    </tr>\n",
              "  </thead>\n",
              "  <tbody>\n",
              "    <tr>\n",
              "      <th>4154</th>\n",
              "      <td>Private</td>\n",
              "      <td>0.089498</td>\n",
              "      <td>16</td>\n",
              "      <td>Married</td>\n",
              "      <td>Prof-specialty</td>\n",
              "      <td>Husband</td>\n",
              "      <td>White</td>\n",
              "      <td>Male</td>\n",
              "      <td>0.0</td>\n",
              "      <td>0.0</td>\n",
              "      <td>55</td>\n",
              "      <td>African-American-Black</td>\n",
              "      <td>1</td>\n",
              "      <td>26-35</td>\n",
              "      <td>1</td>\n",
              "      <td>1</td>\n",
              "      <td>NaN</td>\n",
              "    </tr>\n",
              "    <tr>\n",
              "      <th>19357</th>\n",
              "      <td>Private</td>\n",
              "      <td>0.210716</td>\n",
              "      <td>13</td>\n",
              "      <td>Never-married</td>\n",
              "      <td>Prof-specialty</td>\n",
              "      <td>Not-in-family</td>\n",
              "      <td>White</td>\n",
              "      <td>Female</td>\n",
              "      <td>0.0</td>\n",
              "      <td>0.0</td>\n",
              "      <td>45</td>\n",
              "      <td>African-American-Black</td>\n",
              "      <td>0</td>\n",
              "      <td>26-35</td>\n",
              "      <td>0</td>\n",
              "      <td>0</td>\n",
              "      <td>0.0</td>\n",
              "    </tr>\n",
              "  </tbody>\n",
              "</table>\n",
              "</div>"
            ],
            "text/plain": [
              "      workclass    fnlwgt  education-num  marital-status      occupation  \\\n",
              "4154    Private  0.089498             16         Married  Prof-specialty   \n",
              "19357   Private  0.210716             13   Never-married  Prof-specialty   \n",
              "\n",
              "         relationship    race      sex  capital-gain  capital-loss  \\\n",
              "4154          Husband   White     Male           0.0           0.0   \n",
              "19357   Not-in-family   White   Female           0.0           0.0   \n",
              "\n",
              "       hours-per-week          native-country  income    age  y_test  \\\n",
              "4154               55  African-American-Black       1  26-35       1   \n",
              "19357              45  African-American-Black       0  26-35       0   \n",
              "\n",
              "       y_pred_rf   fp  \n",
              "4154           1  NaN  \n",
              "19357          0  0.0  "
            ]
          },
          "execution_count": 141,
          "metadata": {},
          "output_type": "execute_result"
        }
      ],
      "source": [
        "y_trues = df_test_rf[\"y_test\"]\n",
        "y_preds = df_test_rf[\"y_pred_rf\"]\n",
        "\n",
        "df_test_rf['fp'] =  get_false_positive_rate_outcome(y_trues, y_preds)\n",
        "df_test_rf[100:102]"
      ]
    },
    {
      "cell_type": "code",
      "execution_count": 142,
      "metadata": {
        "colab": {
          "base_uri": "https://localhost:8080/",
          "height": 478
        },
        "id": "NipNXACtS_Wn",
        "outputId": "adb0b394-5dd2-4296-8ef5-5542e158ed14"
      },
      "outputs": [
        {
          "data": {
            "text/html": [
              "<div>\n",
              "<style scoped>\n",
              "    .dataframe tbody tr th:only-of-type {\n",
              "        vertical-align: middle;\n",
              "    }\n",
              "\n",
              "    .dataframe tbody tr th {\n",
              "        vertical-align: top;\n",
              "    }\n",
              "\n",
              "    .dataframe thead th {\n",
              "        text-align: right;\n",
              "    }\n",
              "</style>\n",
              "<table border=\"1\" class=\"dataframe\">\n",
              "  <thead>\n",
              "    <tr style=\"text-align: right;\">\n",
              "      <th></th>\n",
              "      <th>support</th>\n",
              "      <th>itemset</th>\n",
              "      <th>fp</th>\n",
              "      <th>fp_div</th>\n",
              "      <th>fp_t</th>\n",
              "      <th>length</th>\n",
              "      <th>support_count</th>\n",
              "    </tr>\n",
              "  </thead>\n",
              "  <tbody>\n",
              "    <tr>\n",
              "      <th>0</th>\n",
              "      <td>0.064997</td>\n",
              "      <td>(hours-per-week=50, race= White, sex= Male)</td>\n",
              "      <td>0.200000</td>\n",
              "      <td>0.138057</td>\n",
              "      <td>5.124323</td>\n",
              "      <td>3</td>\n",
              "      <td>423.0</td>\n",
              "    </tr>\n",
              "    <tr>\n",
              "      <th>1</th>\n",
              "      <td>0.071143</td>\n",
              "      <td>(hours-per-week=50, sex= Male)</td>\n",
              "      <td>0.198312</td>\n",
              "      <td>0.136369</td>\n",
              "      <td>5.317404</td>\n",
              "      <td>2</td>\n",
              "      <td>463.0</td>\n",
              "    </tr>\n",
              "    <tr>\n",
              "      <th>2</th>\n",
              "      <td>0.175630</td>\n",
              "      <td>(race= White, age=46-65, sex= Male)</td>\n",
              "      <td>0.179081</td>\n",
              "      <td>0.117138</td>\n",
              "      <td>7.541868</td>\n",
              "      <td>3</td>\n",
              "      <td>1143.0</td>\n",
              "    </tr>\n",
              "    <tr>\n",
              "      <th>3</th>\n",
              "      <td>0.105101</td>\n",
              "      <td>(sex= Male, race= White, age=46-65, workclass= Private)</td>\n",
              "      <td>0.178756</td>\n",
              "      <td>0.116813</td>\n",
              "      <td>5.975405</td>\n",
              "      <td>4</td>\n",
              "      <td>684.0</td>\n",
              "    </tr>\n",
              "    <tr>\n",
              "      <th>4</th>\n",
              "      <td>0.197910</td>\n",
              "      <td>(age=46-65, sex= Male)</td>\n",
              "      <td>0.168975</td>\n",
              "      <td>0.107032</td>\n",
              "      <td>7.503031</td>\n",
              "      <td>2</td>\n",
              "      <td>1288.0</td>\n",
              "    </tr>\n",
              "  </tbody>\n",
              "</table>\n",
              "</div>"
            ],
            "text/plain": [
              "    support                                                  itemset  \\\n",
              "0  0.064997              (hours-per-week=50, race= White, sex= Male)   \n",
              "1  0.071143                           (hours-per-week=50, sex= Male)   \n",
              "2  0.175630                      (race= White, age=46-65, sex= Male)   \n",
              "3  0.105101  (sex= Male, race= White, age=46-65, workclass= Private)   \n",
              "4  0.197910                                   (age=46-65, sex= Male)   \n",
              "\n",
              "         fp    fp_div      fp_t  length  support_count  \n",
              "0  0.200000  0.138057  5.124323       3          423.0  \n",
              "1  0.198312  0.136369  5.317404       2          463.0  \n",
              "2  0.179081  0.117138  7.541868       3         1143.0  \n",
              "3  0.178756  0.116813  5.975405       4          684.0  \n",
              "4  0.168975  0.107032  7.503031       2         1288.0  "
            ]
          },
          "execution_count": 142,
          "metadata": {},
          "output_type": "execute_result"
        }
      ],
      "source": [
        "fp_diver = DivergenceExplorer(df_test_rf)\n",
        "\n",
        "\n",
        "attributes = ['age', 'workclass', 'sex', 'race', 'hours-per-week']\n",
        "FP_fm = fp_diver.get_pattern_divergence(min_support=0.05, attributes=attributes,\n",
        "                                        boolean_outcomes=['fp'])\n",
        "FP_fm = FP_fm.sort_values(by=\"fp_div\", ascending=False, ignore_index=True)\n",
        "pd.set_option('display.max_colwidth', None)\n",
        "\n",
        "FP_fm.head(5)\n"
      ]
    },
    {
      "cell_type": "markdown",
      "metadata": {},
      "source": [
        "The subgroup with highest false-positive rate is (race = White, sex = Male, hours-per-week = 50) , and they have a false positive rate of \n",
        "0.200,\n",
        "which is 13.80% above the average false-positive rate. \n",
        "There are 423 instances in this subgroup."
      ]
    },
    {
      "cell_type": "code",
      "execution_count": 143,
      "metadata": {
        "colab": {
          "base_uri": "https://localhost:8080/"
        },
        "id": "wOUpsYGmV9Rg",
        "outputId": "03f66da3-b8be-42ed-ca11-fb82632def95"
      },
      "outputs": [
        {
          "name": "stdout",
          "output_type": "stream",
          "text": [
            "Recall that the False Positive Rate for the overall Random Forest was: 0.0619\n"
          ]
        }
      ],
      "source": [
        "\n",
        "print(f\"Recall that the False Positive Rate for the overall Random Forest was: {false_positive_rate:.4f}\" )"
      ]
    },
    {
      "cell_type": "code",
      "execution_count": 144,
      "metadata": {},
      "outputs": [
        {
          "data": {
            "image/png": "[encoded data removed]",
            "text/plain": [
              "<Figure size 800x600 with 1 Axes>"
            ]
          },
          "metadata": {},
          "output_type": "display_data"
        }
      ],
      "source": [
        "#PLOT\n",
        "top_5_fp_fm = FP_fm.head(5)\n",
        "\n",
        "# GB data\n",
        "model_fp = 0.0719\n",
        "model_label = \"Random Forest\"\n",
        "\n",
        "# data for plot\n",
        "fp_data = [(model_label, model_fp)] + list(top_5_fp_fm[['itemset', 'fp']].itertuples(index=False, name=None))\n",
        "\n",
        "# order\n",
        "sorted_fp_data = sorted(fp_data[1:], key=lambda x: x[1], reverse=True)\n",
        "sorted_fp_data.insert(0, fp_data[0])\n",
        "\n",
        "# extract itemset and values\n",
        "sorted_fp_values = [item[1] for item in sorted_fp_data]\n",
        "sorted_itemsets = [item[0] for item in sorted_fp_data]\n",
        "\n",
        "# Colors\n",
        "num_colors = len(sorted_fp_values)\n",
        "colors = plt.cm.viridis(np.linspace(0, 0.8, num_colors))\n",
        "\n",
        "# Graph\n",
        "plt.figure(figsize=(8, 6))\n",
        "bars = plt.barh(np.arange(len(sorted_itemsets)), sorted_fp_values, color=colors)\n",
        "plt.yticks(np.arange(len(sorted_itemsets)), [str(itemset).replace(\"frozenset\", \"\").replace(\"{\", \"\").replace(\"}\", \"\") for itemset in sorted_itemsets])\n",
        "plt.xlabel('False Positive Rate')\n",
        "plt.title('Itemsets')\n",
        "\n",
        "# Add fp values\n",
        "for i, fp_value in enumerate(sorted_fp_values):\n",
        "    plt.text(fp_value * 1.02, i, f'{fp_value:.4f}', va='center', ha='left')\n",
        "\n",
        "plt.tight_layout()\n",
        "plt.gca().invert_yaxis()\n",
        "plt.xlim(right=max(sorted_fp_values) * 1.3)\n",
        "plt.show()"
      ]
    },
    {
      "cell_type": "code",
      "execution_count": 145,
      "metadata": {
        "colab": {
          "base_uri": "https://localhost:8080/"
        },
        "id": "iD24ZodcVbRq",
        "outputId": "167361c3-c532-4111-fbab-044ae9f11031"
      },
      "outputs": [],
      "source": [
        "fp_details = DivergencePatternProcessor(FP_fm, 'fp')\n",
        "\n",
        "pattern = fp_details.patterns['itemset'].iloc[0]\n",
        "#print(pattern)\n",
        "sv = fp_details.shapley_value(pattern)\n",
        "#sv"
      ]
    },
    {
      "cell_type": "code",
      "execution_count": 146,
      "metadata": {},
      "outputs": [
        {
          "data": {
            "image/png": "[encoded data removed]",
            "text/plain": [
              "<Figure size 600x400 with 1 Axes>"
            ]
          },
          "metadata": {},
          "output_type": "display_data"
        }
      ],
      "source": [
        "sorted_sv = sorted(sv.values(), reverse=True)\n",
        "sorted_keys = sorted(sv, key=sv.get, reverse=True)\n",
        "\n",
        "# Drop 'frozenset'\n",
        "sorted_keys_labels = [', '.join(item) for item in sorted_keys]\n",
        "\n",
        "# Colour\n",
        "colors = ['#B0E0E6', '#87CEEB', '#4682B4', '#7FFFD4', '#40E0D0', '#AFEEEE', '#E0FFFF', '#F0FFFF']\n",
        "\n",
        "# Graph\n",
        "plt.figure(figsize=(6, 4))\n",
        "bars = plt.barh(np.arange(len(sorted_sv)), sorted_sv, color=colors[:len(sorted_sv)])\n",
        "plt.yticks(np.arange(len(sorted_sv)), sorted_keys_labels)\n",
        "plt.xlabel('Shapley Value')\n",
        "plt.title('Shapley Values for the First Itemset')\n",
        "\n",
        "# Add shapley values\n",
        "for i, value in enumerate(sorted_sv):\n",
        "    plt.text(value + 0.003, i, f'{value:.4f}', va='center', ha='left', color='black')  # 0.003 corrisponde a circa 3 mm\n",
        "\n",
        "plt.gca().invert_yaxis()  #desc order\n",
        "plt.xlim(0, 0.15)\n",
        "plt.subplots_adjust(left=0.3)\n",
        "plt.tight_layout()\n",
        "plt.show()\n",
        "\n",
        "\n"
      ]
    },
    {
      "cell_type": "code",
      "execution_count": 147,
      "metadata": {
        "colab": {
          "base_uri": "https://localhost:8080/"
        },
        "id": "bCzrtIxPVni5",
        "outputId": "75604037-5f41-4054-a0bb-6c8e190b3695"
      },
      "outputs": [],
      "source": [
        "gsv = fp_details.global_shapley_value()\n",
        "#gsv"
      ]
    },
    {
      "cell_type": "code",
      "execution_count": 148,
      "metadata": {},
      "outputs": [
        {
          "data": {
            "image/png": "[encoded data removed]",
            "text/plain": [
              "<Figure size 800x600 with 1 Axes>"
            ]
          },
          "metadata": {},
          "output_type": "display_data"
        }
      ],
      "source": [
        "\n",
        "#order gsv desc\n",
        "sorted_gsv = sorted(gsv.items(), key=lambda x: x[1], reverse=True)\n",
        "\n",
        "# extract itemset and Shapley values\n",
        "itemsets = [' '.join(item) for item, value in sorted_gsv]\n",
        "shapley_values = [value for item, value in sorted_gsv]\n",
        "\n",
        "# Colours\n",
        "colors = ['#FFC0CB', '#FF69B4', '#FF1493', '#FF7F50', '#FFA07A', '#FF6347', '#FF4500', '#FA8072', '#FFD700', '#FFA500', '#FF8C00', '#FFDAB9', '#FFE4B5', '#F08080']\n",
        "\n",
        "# Graph of Shapley values\n",
        "plt.figure(figsize=(8, 6))\n",
        "bars = plt.barh(itemsets, shapley_values, color=colors[:len(itemsets)])\n",
        "plt.xlabel('Shapley Value')\n",
        "plt.title('Global Shapley Values')\n",
        "\n",
        "# Add numbers\n",
        "for i, value in enumerate(shapley_values):\n",
        "    plt.text(value + 0.0005, i, format(value, '.4f'), va='center', ha='left', color='black')\n",
        "\n",
        "plt.gca().invert_yaxis() \n",
        "plt.xlim(-0.020, 0.015)\n",
        "plt.tight_layout()\n",
        "plt.show()\n"
      ]
    },
    {
      "cell_type": "markdown",
      "metadata": {},
      "source": [
        "**BIAS MITIGATION**\n",
        "\n",
        "Approach number one: post-hoc mitigation.\n",
        "\n",
        "Let's train the model on a sub-set of the initial data \n",
        "        --> let's add \"problematica\" data\n",
        "                --> let's see if the false positive rate changes"
      ]
    },
    {
      "cell_type": "code",
      "execution_count": 149,
      "metadata": {},
      "outputs": [
        {
          "name": "stdout",
          "output_type": "stream",
          "text": [
            "Accuracy sul validation set:  0.8449225252913305\n",
            "False positive rate on validation set:  0.07957957957957958\n"
          ]
        }
      ],
      "source": [
        "#train on the 70% of training data\n",
        "X_train_subset, X_val_enc, y_train_subset, y_val_enc = train_test_split(X_train_enc, y_train_enc, test_size=0.3, random_state=42)\n",
        "rf.fit(X_train_subset, y_train_subset)\n",
        "\n",
        "y_val_pred = rf.predict(X_val_enc)\n",
        "accuracy_val = accuracy_score(y_val_enc, y_val_pred)\n",
        "print(\"Accuracy sul validation set: \", accuracy_val)\n",
        "\n",
        "\n",
        "#compute false positive rate by using the validation set\n",
        "cm = confusion_matrix(y_val_enc, y_val_pred)\n",
        "FP = cm[0,1]\n",
        "TN = cm[0,0]\n",
        "FPR_val = FP / (FP+TN)\n",
        "print(\"False positive rate on validation set: \", FPR_val)"
      ]
    },
    {
      "cell_type": "code",
      "execution_count": 150,
      "metadata": {},
      "outputs": [
        {
          "data": {
            "text/html": [
              "<div>\n",
              "<style scoped>\n",
              "    .dataframe tbody tr th:only-of-type {\n",
              "        vertical-align: middle;\n",
              "    }\n",
              "\n",
              "    .dataframe tbody tr th {\n",
              "        vertical-align: top;\n",
              "    }\n",
              "\n",
              "    .dataframe thead th {\n",
              "        text-align: right;\n",
              "    }\n",
              "</style>\n",
              "<table border=\"1\" class=\"dataframe\">\n",
              "  <thead>\n",
              "    <tr style=\"text-align: right;\">\n",
              "      <th></th>\n",
              "      <th>age</th>\n",
              "      <th>workclass</th>\n",
              "      <th>fnlwgt</th>\n",
              "      <th>education</th>\n",
              "      <th>education-num</th>\n",
              "      <th>marital-status</th>\n",
              "      <th>occupation</th>\n",
              "      <th>relationship</th>\n",
              "      <th>race</th>\n",
              "      <th>sex</th>\n",
              "      <th>capital-gain</th>\n",
              "      <th>capital-loss</th>\n",
              "      <th>hours-per-week</th>\n",
              "      <th>native-country</th>\n",
              "      <th>y_val_enc</th>\n",
              "      <th>y_val_pred</th>\n",
              "    </tr>\n",
              "  </thead>\n",
              "  <tbody>\n",
              "    <tr>\n",
              "      <th>11397</th>\n",
              "      <td>24</td>\n",
              "      <td>3</td>\n",
              "      <td>1708</td>\n",
              "      <td>3</td>\n",
              "      <td>8</td>\n",
              "      <td>0</td>\n",
              "      <td>0</td>\n",
              "      <td>1</td>\n",
              "      <td>4</td>\n",
              "      <td>1</td>\n",
              "      <td>0</td>\n",
              "      <td>0</td>\n",
              "      <td>54</td>\n",
              "      <td>1</td>\n",
              "      <td>0</td>\n",
              "      <td>0</td>\n",
              "    </tr>\n",
              "  </tbody>\n",
              "</table>\n",
              "</div>"
            ],
            "text/plain": [
              "       age  workclass  fnlwgt  education  education-num  marital-status  \\\n",
              "11397   24          3    1708          3              8               0   \n",
              "\n",
              "       occupation  relationship  race  sex  capital-gain  capital-loss  \\\n",
              "11397           0             1     4    1             0             0   \n",
              "\n",
              "       hours-per-week  native-country  y_val_enc  y_val_pred  \n",
              "11397              54               1          0           0  "
            ]
          },
          "execution_count": 150,
          "metadata": {},
          "output_type": "execute_result"
        }
      ],
      "source": [
        "#Let's find the itemsets on the validation set\n",
        "\n",
        "#create the dataframe with X_val_enc attributes + y_val_enc and y_val_pred\n",
        "df_val_div = X_val_enc.copy()\n",
        "df_val_div['y_val_enc'] = y_val_enc\n",
        "df_val_div['y_val_pred'] = y_val_pred\n",
        "df_val_div.head(1)"
      ]
    },
    {
      "cell_type": "code",
      "execution_count": 151,
      "metadata": {},
      "outputs": [
        {
          "data": {
            "text/html": [
              "<div>\n",
              "<style scoped>\n",
              "    .dataframe tbody tr th:only-of-type {\n",
              "        vertical-align: middle;\n",
              "    }\n",
              "\n",
              "    .dataframe tbody tr th {\n",
              "        vertical-align: top;\n",
              "    }\n",
              "\n",
              "    .dataframe thead th {\n",
              "        text-align: right;\n",
              "    }\n",
              "</style>\n",
              "<table border=\"1\" class=\"dataframe\">\n",
              "  <thead>\n",
              "    <tr style=\"text-align: right;\">\n",
              "      <th></th>\n",
              "      <th>support</th>\n",
              "      <th>itemset</th>\n",
              "      <th>fp</th>\n",
              "      <th>fp_div</th>\n",
              "      <th>fp_t</th>\n",
              "      <th>length</th>\n",
              "      <th>support_count</th>\n",
              "    </tr>\n",
              "  </thead>\n",
              "  <tbody>\n",
              "    <tr>\n",
              "      <th>0</th>\n",
              "      <td>0.067614</td>\n",
              "      <td>(race=4, sex=1, hours-per-week=49)</td>\n",
              "      <td>0.198582</td>\n",
              "      <td>0.119002</td>\n",
              "      <td>5.044882</td>\n",
              "      <td>3</td>\n",
              "      <td>528.0</td>\n",
              "    </tr>\n",
              "    <tr>\n",
              "      <th>1</th>\n",
              "      <td>0.068639</td>\n",
              "      <td>(race=4, workclass=0, sex=1)</td>\n",
              "      <td>0.197605</td>\n",
              "      <td>0.118025</td>\n",
              "      <td>5.429298</td>\n",
              "      <td>3</td>\n",
              "      <td>536.0</td>\n",
              "    </tr>\n",
              "    <tr>\n",
              "      <th>2</th>\n",
              "      <td>0.071456</td>\n",
              "      <td>(sex=1, hours-per-week=49)</td>\n",
              "      <td>0.190635</td>\n",
              "      <td>0.111056</td>\n",
              "      <td>4.919532</td>\n",
              "      <td>2</td>\n",
              "      <td>558.0</td>\n",
              "    </tr>\n",
              "    <tr>\n",
              "      <th>3</th>\n",
              "      <td>0.082853</td>\n",
              "      <td>(workclass=0, sex=1)</td>\n",
              "      <td>0.171569</td>\n",
              "      <td>0.091989</td>\n",
              "      <td>4.921130</td>\n",
              "      <td>2</td>\n",
              "      <td>647.0</td>\n",
              "    </tr>\n",
              "    <tr>\n",
              "      <th>4</th>\n",
              "      <td>0.081957</td>\n",
              "      <td>(race=4, hours-per-week=49)</td>\n",
              "      <td>0.162983</td>\n",
              "      <td>0.083404</td>\n",
              "      <td>4.313321</td>\n",
              "      <td>2</td>\n",
              "      <td>640.0</td>\n",
              "    </tr>\n",
              "  </tbody>\n",
              "</table>\n",
              "</div>"
            ],
            "text/plain": [
              "    support                             itemset        fp    fp_div      fp_t  \\\n",
              "0  0.067614  (race=4, sex=1, hours-per-week=49)  0.198582  0.119002  5.044882   \n",
              "1  0.068639        (race=4, workclass=0, sex=1)  0.197605  0.118025  5.429298   \n",
              "2  0.071456          (sex=1, hours-per-week=49)  0.190635  0.111056  4.919532   \n",
              "3  0.082853                (workclass=0, sex=1)  0.171569  0.091989  4.921130   \n",
              "4  0.081957         (race=4, hours-per-week=49)  0.162983  0.083404  4.313321   \n",
              "\n",
              "   length  support_count  \n",
              "0       3          528.0  \n",
              "1       3          536.0  \n",
              "2       2          558.0  \n",
              "3       2          647.0  \n",
              "4       2          640.0  "
            ]
          },
          "execution_count": 151,
          "metadata": {},
          "output_type": "execute_result"
        }
      ],
      "source": [
        "df_val_div['fp'] =  get_false_positive_rate_outcome(y_val_enc, y_val_pred)\n",
        "fp_diver = DivergenceExplorer(df_val_div)\n",
        "\n",
        "attributes = ['age', 'workclass', 'sex', 'race', 'hours-per-week']\n",
        "FP_fm = fp_diver.get_pattern_divergence(min_support=0.05, attributes=attributes,\n",
        "                                        boolean_outcomes=['fp'])\n",
        "FP_fm = FP_fm.sort_values(by=\"fp_div\", ascending=False, ignore_index=True)\n",
        "FP_fm.head(5)"
      ]
    },
    {
      "cell_type": "markdown",
      "metadata": {},
      "source": [
        "On the train set, let's add \"some\" rows with data (hours-per-week=49, sex = 1, race = 4,  workclass = 0) and see how the false positive rate changes on the validation.\n",
        "In paricular I add NEW_ROWS rows with such values, for the other attributes I add the most frequent value and because of the problem is the FP rate, y_train_enc must be = 0 fot this new rows"
      ]
    },
    {
      "cell_type": "markdown",
      "metadata": {},
      "source": [
        "HERE I ADD AN ARBITRARY NUMBER OF ROWS AND I SEE HOW THE FPR CHANGES, \n",
        "The new rows have the couple feature/value for the problematic itemset inspected and the most frequent value for the other features"
      ]
    },
    {
      "cell_type": "code",
      "execution_count": 152,
      "metadata": {},
      "outputs": [],
      "source": [
        "NUM_ROWS = 200\n",
        "\n",
        "#new rows dataframe \n",
        "new_rows = pd.DataFrame({\n",
        "    'age': X_train_subset['age'].mode()[0], \n",
        "    'workclass': 0, \n",
        "    'fnlwgt': X_train_subset['fnlwgt'].mode()[0],  \n",
        "    'education': X_train_subset['education'].mode()[0], \n",
        "    'education-num': X_train_subset['education-num'].mode()[0],  \n",
        "    'marital-status': X_train_subset['marital-status'].mode()[0],  \n",
        "    'occupation': X_train_subset['occupation'].mode()[0],  \n",
        "    'relationship': X_train_subset['relationship'].mode()[0],  \n",
        "    'race': 4,  \n",
        "    'sex': 1, \n",
        "    'capital-gain': X_train_subset['capital-gain'].mode()[0],  \n",
        "    'capital-loss': X_train_subset['capital-loss'].mode()[0],  \n",
        "    'hours-per-week': 49,  \n",
        "    'native-country': X_train_subset['native-country'].mode()[0], \n",
        "}, index=np.arange(len(X_train_subset), len(X_train_subset) + NUM_ROWS))\n",
        "\n",
        "# Aggiunta delle nuove righe al DataFrame originale\n",
        "X_train_subset = pd.concat([X_train_subset, new_rows])\n",
        "y_train_subset = np.concatenate([y_train_subset, np.zeros(NUM_ROWS)])\n"
      ]
    },
    {
      "cell_type": "code",
      "execution_count": 153,
      "metadata": {},
      "outputs": [
        {
          "name": "stdout",
          "output_type": "stream",
          "text": [
            "Accuracy on validation set:  0.8467153284671532\n",
            "False positive rate on validation set when train set is augmented:  0.07907907907907907\n",
            "\n",
            "Before, FPR:  0.07957957957957958\n"
          ]
        }
      ],
      "source": [
        "rf.fit(X_train_subset, y_train_subset)\n",
        "\n",
        "y_val_pred = rf.predict(X_val_enc)\n",
        "accuracy_val = accuracy_score(y_val_enc, y_val_pred)\n",
        "print(\"Accuracy on validation set: \", accuracy_val)\n",
        "\n",
        "\n",
        "#compute false positive rate by using the validation set\n",
        "cm = confusion_matrix(y_val_enc, y_val_pred)\n",
        "FP = cm[0,1]\n",
        "TN = cm[0,0]\n",
        "new_FPR_val = FP / (FP+TN)\n",
        "print(\"False positive rate on validation set when train set is augmented: \", new_FPR_val)\n",
        "print()\n",
        "print(\"Before, FPR: \", FPR_val)"
      ]
    },
    {
      "cell_type": "markdown",
      "metadata": {},
      "source": [
        "Same as before, but here: \n",
        "                --> I choose a false positive rate reduction target \n",
        "                --> non-problematic values ​​are inserted by sampling from the data distribution"
      ]
    },
    {
      "cell_type": "code",
      "execution_count": 154,
      "metadata": {},
      "outputs": [
        {
          "name": "stdout",
          "output_type": "stream",
          "text": [
            "Initial false positive rate on validation set:  0.1329662996329663\n",
            "After adding 50 rows:\n",
            "Current false positive rate on validation set:  0.1324657991324658\n",
            "After adding 100 rows:\n",
            "Current false positive rate on validation set:  0.12879546212879547\n",
            "Final accuracy on validation set:  0.8091945191445767\n",
            "Initial FPR:  0.1329662996329663\n",
            "Final FPR:  0.12879546212879547\n",
            "Total added rows:  100\n"
          ]
        }
      ],
      "source": [
        "#Parameters\n",
        "NUM_ROWS = 10\n",
        "TARGET_REDUCTION = 0.03\n",
        "PRINT_INTERVAL = 50\n",
        "np.random.seed(42)\n",
        "\n",
        "#sampling function\n",
        "def sample_attribute(attribute, condition):\n",
        "    return np.random.choice(X_train_subset[condition][attribute].values, NUM_ROWS, replace=True)\n",
        "\n",
        "#FPR computation\n",
        "def calculate_fpr(y_true, y_pred):\n",
        "    cm = confusion_matrix(y_true, y_pred)\n",
        "    FP = cm[0, 1]\n",
        "    TN = cm[0, 0]\n",
        "    return FP / (FP + TN)\n",
        "\n",
        "#sex and race fixed: they belong to the problematic itemset\n",
        "condition = (X_train_subset['sex'] == 1) & (X_train_subset['race'] == 4)\n",
        "\n",
        "# Training\n",
        "dt = DecisionTreeClassifier()\n",
        "dt.fit(X_train_subset, y_train_subset)\n",
        "y_val_pred = dt.predict(X_val_enc)\n",
        "initial_FPR_val = calculate_fpr(y_val_enc, y_val_pred)\n",
        "print(\"Initial false positive rate on validation set: \", initial_FPR_val)\n",
        "\n",
        "\n",
        "X_train_augmented = X_train_subset.copy()\n",
        "y_train_augmented = y_train_subset.copy()\n",
        "\n",
        "\n",
        "total_added_rows = 0\n",
        "\n",
        "# Add rows\n",
        "while True:\n",
        "    new_rows = pd.DataFrame({\n",
        "        'age': sample_attribute('age', condition), \n",
        "        'workclass': [0]*NUM_ROWS,  \n",
        "        'fnlwgt': sample_attribute('fnlwgt', condition),  \n",
        "        'education': sample_attribute('education', condition), \n",
        "        'education-num': sample_attribute('education-num', condition),  \n",
        "        'marital-status': sample_attribute('marital-status', condition),  \n",
        "        'occupation': sample_attribute('occupation', condition),  \n",
        "        'relationship': sample_attribute('relationship', condition),  \n",
        "        'race': [4] * NUM_ROWS,  \n",
        "        'sex': [1] * NUM_ROWS,  \n",
        "        'capital-gain': sample_attribute('capital-gain', condition),  \n",
        "        'capital-loss': sample_attribute('capital-loss', condition),  \n",
        "        'hours-per-week': [49] * NUM_ROWS,\n",
        "        'native-country': sample_attribute('native-country', condition)\n",
        "    }, index=np.arange(len(X_train_augmented), len(X_train_augmented) + NUM_ROWS))\n",
        "\n",
        "    \n",
        "    X_train_augmented = pd.concat([X_train_augmented, new_rows])\n",
        "    y_train_augmented = np.concatenate([y_train_augmented, np.zeros(NUM_ROWS)])\n",
        "    \n",
        "    \n",
        "    total_added_rows += NUM_ROWS\n",
        "    \n",
        "    # Training \n",
        "    dt.fit(X_train_augmented, y_train_augmented)\n",
        "    y_val_pred = dt.predict(X_val_enc)\n",
        "    \n",
        "    #New FPR\n",
        "    new_FPR_val = calculate_fpr(y_val_enc, y_val_pred)\n",
        "    \n",
        "\n",
        "    if total_added_rows % PRINT_INTERVAL == 0:\n",
        "        print(f\"After adding {total_added_rows} rows:\")\n",
        "        print(\"Current false positive rate on validation set: \", new_FPR_val)\n",
        "    \n",
        "    #check if the target is reached\n",
        "    if new_FPR_val <= initial_FPR_val * (1 - TARGET_REDUCTION):\n",
        "        break\n",
        "\n",
        "#final results\n",
        "accuracy_val = accuracy_score(y_val_enc, y_val_pred)\n",
        "print(\"Final accuracy on validation set: \", accuracy_val)\n",
        "print(\"Initial FPR: \", initial_FPR_val)\n",
        "print(\"Final FPR: \", new_FPR_val)\n",
        "print(\"Total added rows: \", total_added_rows)"
      ]
    }
  ],
  "metadata": {
    "colab": {
      "provenance": []
    },
    "kernelspec": {
      "display_name": "Python 3",
      "name": "python3"
    },
    "language_info": {
      "codemirror_mode": {
        "name": "ipython",
        "version": 3
      },
      "file_extension": ".py",
      "mimetype": "text/x-python",
      "name": "python",
      "nbconvert_exporter": "python",
      "pygments_lexer": "ipython3",
      "version": "3.10.9"
    }
  },
  "nbformat": 4,
  "nbformat_minor": 0
}
